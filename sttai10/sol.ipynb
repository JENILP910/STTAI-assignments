{
 "cells": [
  {
   "cell_type": "markdown",
   "id": "2d169cdd",
   "metadata": {},
   "source": [
    "# Part 1: A/B Testing using Ad Click Prediction\n"
   ]
  },
  {
   "cell_type": "markdown",
   "id": "d3eb6b04",
   "metadata": {},
   "source": [
    "1. Load the dataset into a pandas DataFrame."
   ]
  },
  {
   "cell_type": "code",
   "execution_count": 1,
   "id": "bf7f3ec5",
   "metadata": {},
   "outputs": [],
   "source": [
    "import pandas as pd\n",
    "import numpy as np\n",
    "from scipy import stats\n"
   ]
  },
  {
   "cell_type": "code",
   "execution_count": 2,
   "id": "fd847f60",
   "metadata": {},
   "outputs": [
    {
     "name": "stdout",
     "output_type": "stream",
     "text": [
      "Loading dataset...\n",
      "Dataset loaded with 10000 rows and 9 columns.\n"
     ]
    }
   ],
   "source": [
    "\n",
    "# 1. Load the dataset\n",
    "print(\"Loading dataset...\")\n",
    "df = pd.read_csv('ad_click_dataset.csv')\n",
    "print(f\"Dataset loaded with {df.shape[0]} rows and {df.shape[1]} columns.\")\n"
   ]
  },
  {
   "cell_type": "markdown",
   "id": "3d628696",
   "metadata": {},
   "source": [
    "2. Perform necessary data cleaning and preprocessing: "
   ]
  },
  {
   "cell_type": "markdown",
   "id": "20e195ff",
   "metadata": {},
   "source": [
    "a. Handle missing values"
   ]
  },
  {
   "cell_type": "code",
   "execution_count": 5,
   "id": "89485ed2",
   "metadata": {},
   "outputs": [
    {
     "name": "stdout",
     "output_type": "stream",
     "text": [
      "Missing values before cleaning:\n",
      "id                     0\n",
      "full_name              0\n",
      "age                 4766\n",
      "gender              4693\n",
      "device_type         2000\n",
      "ad_position         2000\n",
      "browsing_history    4782\n",
      "time_of_day         2000\n",
      "click                  0\n",
      "dtype: int64\n"
     ]
    }
   ],
   "source": [
    "print(\"Missing values before cleaning:\")\n",
    "print(df.isnull().sum())"
   ]
  },
  {
   "cell_type": "code",
   "execution_count": 6,
   "id": "a80928bf",
   "metadata": {},
   "outputs": [
    {
     "name": "stdout",
     "output_type": "stream",
     "text": [
      "\n",
      "Missing values after cleaning:\n",
      "id                  0\n",
      "full_name           0\n",
      "age                 0\n",
      "gender              0\n",
      "device_type         0\n",
      "ad_position         0\n",
      "browsing_history    0\n",
      "time_of_day         0\n",
      "click               0\n",
      "dtype: int64\n"
     ]
    }
   ],
   "source": [
    "\n",
    "# Handle missing values (fill or drop depending on extent)\n",
    "if df.isnull().sum().sum() > 0:\n",
    "    # Fill categorical columns with mode\n",
    "    for col in ['gender', 'device_type', 'ad_position', 'browsing_history', 'time_of_day']:\n",
    "        if df[col].isnull().sum() > 0:\n",
    "            df[col] = df[col].fillna(df[col].mode()[0])\n",
    "    \n",
    "    # Fill numerical columns with median\n",
    "    for col in ['age']:\n",
    "        if df[col].isnull().sum() > 0:\n",
    "            df[col] = df[col].fillna(df[col].median())\n",
    "            \n",
    "    print(\"\\nMissing values after cleaning:\")\n",
    "    print(df.isnull().sum())\n"
   ]
  },
  {
   "cell_type": "code",
   "execution_count": 7,
   "id": "8f2eb0a3",
   "metadata": {},
   "outputs": [
    {
     "name": "stdout",
     "output_type": "stream",
     "text": [
      "Unique values in ad_position: ['Top' 'Side' 'Bottom']\n"
     ]
    }
   ],
   "source": [
    "\n",
    "# Ensure ad_position is properly formatted for our A/B test\n",
    "# Map 'Top' to 0 and 'Bottom' to 1\n",
    "if df['ad_position'].dtype == 'object':\n",
    "    # Check the unique values\n",
    "    print(\"Unique values in ad_position:\", df['ad_position'].unique())\n",
    "    \n",
    "    # Create mapping based on the values\n",
    "    position_mapping = {'Top': 0, 'Side': 2, 'Bottom': 1}\n",
    "    df['ad_position_numeric'] = df['ad_position'].map(position_mapping)\n",
    "else:\n",
    "    df['ad_position_numeric'] = df['ad_position']\n"
   ]
  },
  {
   "cell_type": "code",
   "execution_count": 8,
   "id": "8902afc3",
   "metadata": {},
   "outputs": [
    {
     "data": {
      "text/plain": [
       "(10000, 10)"
      ]
     },
     "execution_count": 8,
     "metadata": {},
     "output_type": "execute_result"
    }
   ],
   "source": [
    "df.shape"
   ]
  },
  {
   "cell_type": "markdown",
   "id": "6b7b6e73",
   "metadata": {},
   "source": [
    "b. Convert categorical columns  (e.g., gender, ad_position)"
   ]
  },
  {
   "cell_type": "code",
   "execution_count": 9,
   "id": "d31a2f62",
   "metadata": {},
   "outputs": [
    {
     "name": "stdout",
     "output_type": "stream",
     "text": [
      "After preprocessing, dataset has 17 columns\n"
     ]
    }
   ],
   "source": [
    "\n",
    "# One-hot encode other categorical variables if needed for future modeling\n",
    "categorical_cols = ['gender', 'device_type', 'browsing_history', 'time_of_day']\n",
    "df_encoded = pd.get_dummies(df, columns=categorical_cols, drop_first=True)\n",
    "\n",
    "print(f\"After preprocessing, dataset has {df_encoded.shape[1]} columns\")\n",
    "    "
   ]
  },
  {
   "cell_type": "code",
   "execution_count": 11,
   "id": "29db4735",
   "metadata": {},
   "outputs": [
    {
     "data": {
      "text/html": [
       "<div>\n",
       "<style scoped>\n",
       "    .dataframe tbody tr th:only-of-type {\n",
       "        vertical-align: middle;\n",
       "    }\n",
       "\n",
       "    .dataframe tbody tr th {\n",
       "        vertical-align: top;\n",
       "    }\n",
       "\n",
       "    .dataframe thead th {\n",
       "        text-align: right;\n",
       "    }\n",
       "</style>\n",
       "<table border=\"1\" class=\"dataframe\">\n",
       "  <thead>\n",
       "    <tr style=\"text-align: right;\">\n",
       "      <th></th>\n",
       "      <th>id</th>\n",
       "      <th>full_name</th>\n",
       "      <th>age</th>\n",
       "      <th>ad_position</th>\n",
       "      <th>click</th>\n",
       "      <th>ad_position_numeric</th>\n",
       "      <th>gender_Male</th>\n",
       "      <th>gender_Non-Binary</th>\n",
       "      <th>device_type_Mobile</th>\n",
       "      <th>device_type_Tablet</th>\n",
       "      <th>browsing_history_Entertainment</th>\n",
       "      <th>browsing_history_News</th>\n",
       "      <th>browsing_history_Shopping</th>\n",
       "      <th>browsing_history_Social Media</th>\n",
       "      <th>time_of_day_Evening</th>\n",
       "      <th>time_of_day_Morning</th>\n",
       "      <th>time_of_day_Night</th>\n",
       "    </tr>\n",
       "  </thead>\n",
       "  <tbody>\n",
       "    <tr>\n",
       "      <th>0</th>\n",
       "      <td>670</td>\n",
       "      <td>User670</td>\n",
       "      <td>22.0</td>\n",
       "      <td>Top</td>\n",
       "      <td>1</td>\n",
       "      <td>0</td>\n",
       "      <td>False</td>\n",
       "      <td>False</td>\n",
       "      <td>False</td>\n",
       "      <td>False</td>\n",
       "      <td>False</td>\n",
       "      <td>False</td>\n",
       "      <td>True</td>\n",
       "      <td>False</td>\n",
       "      <td>False</td>\n",
       "      <td>False</td>\n",
       "      <td>False</td>\n",
       "    </tr>\n",
       "    <tr>\n",
       "      <th>1</th>\n",
       "      <td>3044</td>\n",
       "      <td>User3044</td>\n",
       "      <td>39.5</td>\n",
       "      <td>Top</td>\n",
       "      <td>1</td>\n",
       "      <td>0</td>\n",
       "      <td>True</td>\n",
       "      <td>False</td>\n",
       "      <td>False</td>\n",
       "      <td>False</td>\n",
       "      <td>True</td>\n",
       "      <td>False</td>\n",
       "      <td>False</td>\n",
       "      <td>False</td>\n",
       "      <td>False</td>\n",
       "      <td>True</td>\n",
       "      <td>False</td>\n",
       "    </tr>\n",
       "    <tr>\n",
       "      <th>2</th>\n",
       "      <td>5912</td>\n",
       "      <td>User5912</td>\n",
       "      <td>41.0</td>\n",
       "      <td>Side</td>\n",
       "      <td>1</td>\n",
       "      <td>2</td>\n",
       "      <td>False</td>\n",
       "      <td>True</td>\n",
       "      <td>False</td>\n",
       "      <td>False</td>\n",
       "      <td>False</td>\n",
       "      <td>False</td>\n",
       "      <td>False</td>\n",
       "      <td>False</td>\n",
       "      <td>False</td>\n",
       "      <td>False</td>\n",
       "      <td>True</td>\n",
       "    </tr>\n",
       "    <tr>\n",
       "      <th>3</th>\n",
       "      <td>5418</td>\n",
       "      <td>User5418</td>\n",
       "      <td>34.0</td>\n",
       "      <td>Bottom</td>\n",
       "      <td>1</td>\n",
       "      <td>1</td>\n",
       "      <td>True</td>\n",
       "      <td>False</td>\n",
       "      <td>False</td>\n",
       "      <td>False</td>\n",
       "      <td>True</td>\n",
       "      <td>False</td>\n",
       "      <td>False</td>\n",
       "      <td>False</td>\n",
       "      <td>True</td>\n",
       "      <td>False</td>\n",
       "      <td>False</td>\n",
       "    </tr>\n",
       "    <tr>\n",
       "      <th>4</th>\n",
       "      <td>9452</td>\n",
       "      <td>User9452</td>\n",
       "      <td>39.0</td>\n",
       "      <td>Bottom</td>\n",
       "      <td>0</td>\n",
       "      <td>1</td>\n",
       "      <td>False</td>\n",
       "      <td>True</td>\n",
       "      <td>False</td>\n",
       "      <td>False</td>\n",
       "      <td>False</td>\n",
       "      <td>False</td>\n",
       "      <td>False</td>\n",
       "      <td>True</td>\n",
       "      <td>False</td>\n",
       "      <td>True</td>\n",
       "      <td>False</td>\n",
       "    </tr>\n",
       "  </tbody>\n",
       "</table>\n",
       "</div>"
      ],
      "text/plain": [
       "     id full_name   age ad_position  click  ad_position_numeric  gender_Male  \\\n",
       "0   670   User670  22.0         Top      1                    0        False   \n",
       "1  3044  User3044  39.5         Top      1                    0         True   \n",
       "2  5912  User5912  41.0        Side      1                    2        False   \n",
       "3  5418  User5418  34.0      Bottom      1                    1         True   \n",
       "4  9452  User9452  39.0      Bottom      0                    1        False   \n",
       "\n",
       "   gender_Non-Binary  device_type_Mobile  device_type_Tablet  \\\n",
       "0              False               False               False   \n",
       "1              False               False               False   \n",
       "2               True               False               False   \n",
       "3              False               False               False   \n",
       "4               True               False               False   \n",
       "\n",
       "   browsing_history_Entertainment  browsing_history_News  \\\n",
       "0                           False                  False   \n",
       "1                            True                  False   \n",
       "2                           False                  False   \n",
       "3                            True                  False   \n",
       "4                           False                  False   \n",
       "\n",
       "   browsing_history_Shopping  browsing_history_Social Media  \\\n",
       "0                       True                          False   \n",
       "1                      False                          False   \n",
       "2                      False                          False   \n",
       "3                      False                          False   \n",
       "4                      False                           True   \n",
       "\n",
       "   time_of_day_Evening  time_of_day_Morning  time_of_day_Night  \n",
       "0                False                False              False  \n",
       "1                False                 True              False  \n",
       "2                False                False               True  \n",
       "3                 True                False              False  \n",
       "4                False                 True              False  "
      ]
     },
     "execution_count": 11,
     "metadata": {},
     "output_type": "execute_result"
    }
   ],
   "source": [
    "df_encoded.head()"
   ]
  },
  {
   "cell_type": "markdown",
   "id": "3c53563d",
   "metadata": {},
   "source": [
    "1.Split the dataset into two groups: [10 points]\n",
    "\n",
    "  a. Group A: Users with ad_position = 0 (Top)\n",
    "  \n",
    "  b. Group B: Users with ad_position = 1  (Bottom)\n"
   ]
  },
  {
   "cell_type": "code",
   "execution_count": 12,
   "id": "7e956ead",
   "metadata": {},
   "outputs": [
    {
     "name": "stdout",
     "output_type": "stream",
     "text": [
      "Group A (Top position) size: 2597\n",
      "Group B (Bottom position) size: 4817\n"
     ]
    }
   ],
   "source": [
    "\n",
    "# Filter for Top and Bottom positions only (excluding Side if present)\n",
    "ab_test_df = df[df['ad_position'].isin(['Top', 'Bottom'])]\n",
    "\n",
    "group_a = ab_test_df[ab_test_df['ad_position'] == 'Top']\n",
    "group_b = ab_test_df[ab_test_df['ad_position'] == 'Bottom']\n",
    "\n",
    "print(f\"Group A (Top position) size: {len(group_a)}\")\n",
    "print(f\"Group B (Bottom position) size: {len(group_b)}\")\n"
   ]
  },
  {
   "cell_type": "markdown",
   "id": "92c586ee",
   "metadata": {},
   "source": [
    "4. Use the scipy’s stats.proportions_ztest function to perform an independent two-sample z-test between Group A and Group B."
   ]
  },
  {
   "cell_type": "code",
   "execution_count": 13,
   "id": "6a0d4964",
   "metadata": {},
   "outputs": [
    {
     "name": "stdout",
     "output_type": "stream",
     "text": [
      "Click-through rate for Group A (Top): 63.50%\n",
      "Click-through rate for Group B (Bottom): 66.81%\n"
     ]
    }
   ],
   "source": [
    "\n",
    "# Calculate success counts (clicks) for each group\n",
    "success_a = group_a['click'].sum()\n",
    "success_b = group_b['click'].sum()\n",
    "\n",
    "# Total observations in each group\n",
    "nobs_a = len(group_a)\n",
    "nobs_b = len(group_b)\n",
    "\n",
    "# Print the click-through rates\n",
    "ctr_a = success_a / nobs_a * 100\n",
    "ctr_b = success_b / nobs_b * 100\n",
    "print(f\"Click-through rate for Group A (Top): {ctr_a:.2f}%\")\n",
    "print(f\"Click-through rate for Group B (Bottom): {ctr_b:.2f}%\")\n"
   ]
  },
  {
   "cell_type": "markdown",
   "id": "b11b3d8f",
   "metadata": {},
   "source": [
    "5. Print the following:\n",
    "\n",
    "The z-score [10 points]\n",
    "\n",
    "The p-value [10 points]\n"
   ]
  },
  {
   "cell_type": "code",
   "execution_count": 15,
   "id": "cd10e8db",
   "metadata": {},
   "outputs": [
    {
     "name": "stdout",
     "output_type": "stream",
     "text": [
      "\n",
      "Z-score: -2.8620\n",
      "P-value: 0.0042\n"
     ]
    }
   ],
   "source": [
    "from statsmodels.stats.proportion import proportions_ztest\n",
    "\n",
    "# Perform z-test\n",
    "count = np.array([success_a, success_b])\n",
    "nobs = np.array([nobs_a, nobs_b])\n",
    "\n",
    "z_stat, p_val = proportions_ztest(count, nobs)\n",
    "\n",
    "print(f\"\\nZ-score: {z_stat:.4f}\")\n",
    "print(f\"P-value: {p_val:.4f}\")"
   ]
  },
  {
   "cell_type": "markdown",
   "id": "3bd053a7",
   "metadata": {},
   "source": [
    "Interpret the result: Is there a statistically significant difference in click-through rates between the two groups? Justify your answer. [10 points]\n",
    "\n"
   ]
  },
  {
   "cell_type": "code",
   "execution_count": 16,
   "id": "3a8dfb9d",
   "metadata": {},
   "outputs": [
    {
     "name": "stdout",
     "output_type": "stream",
     "text": [
      "\n",
      "Interpretation:\n",
      "The p-value (0.0042) is less than the significance level (0.05).\n",
      "Therefore, we reject the null hypothesis.\n",
      "CONCLUSION: There is a statistically significant difference in click-through rates between ads positioned\n",
      "at the top versus the bottom of the webpage.\n",
      "Bottom positioned ads have a 3.31% higher click-through rate than top positioned ads.\n"
     ]
    }
   ],
   "source": [
    "\n",
    "# 5. Interpret the results\n",
    "print(\"\\nInterpretation:\")\n",
    "alpha = 0.05\n",
    "if p_val < alpha:\n",
    "    print(f\"The p-value ({p_val:.4f}) is less than the significance level ({alpha}).\")\n",
    "    print(\"Therefore, we reject the null hypothesis.\")\n",
    "    print(\"CONCLUSION: There is a statistically significant difference in click-through rates between ads positioned\")\n",
    "    print(\"at the top versus the bottom of the webpage.\")\n",
    "    \n",
    "    if ctr_a > ctr_b:\n",
    "        print(f\"Top positioned ads have a {ctr_a - ctr_b:.2f}% higher click-through rate than bottom positioned ads.\")\n",
    "    else:\n",
    "        print(f\"Bottom positioned ads have a {ctr_b - ctr_a:.2f}% higher click-through rate than top positioned ads.\")\n",
    "else:\n",
    "    print(f\"The p-value ({p_val:.4f}) is greater than the significance level ({alpha}).\")\n",
    "    print(\"Therefore, we fail to reject the null hypothesis.\")\n",
    "    print(\"CONCLUSION: There is no statistically significant difference in click-through rates between ads positioned\")\n",
    "    print(\"at the top versus the bottom of the webpage.\")"
   ]
  },
  {
   "cell_type": "markdown",
   "id": "19520a4f",
   "metadata": {},
   "source": [
    "2: Covariate Shift Detection Using Air Quality Data"
   ]
  },
  {
   "cell_type": "markdown",
   "id": "7951da9f",
   "metadata": {},
   "source": [
    "Load all three datasets using pandas"
   ]
  },
  {
   "cell_type": "code",
   "execution_count": 17,
   "id": "078951be",
   "metadata": {},
   "outputs": [],
   "source": [
    "import matplotlib.pyplot as plt\n",
    "import seaborn as sns"
   ]
  },
  {
   "cell_type": "code",
   "execution_count": 18,
   "id": "8587f1cd",
   "metadata": {},
   "outputs": [
    {
     "name": "stdout",
     "output_type": "stream",
     "text": [
      "Train dataset shape: (3200, 18)\n",
      "Test1 dataset shape: (800, 18)\n",
      "Test2 dataset shape: (800, 18)\n"
     ]
    }
   ],
   "source": [
    "train_df = pd.read_csv('train.csv')\n",
    "test1_df = pd.read_csv('test1.csv')\n",
    "test2_df = pd.read_csv('test2.csv')\n",
    "\n",
    "print(f\"Train dataset shape: {train_df.shape}\")\n",
    "print(f\"Test1 dataset shape: {test1_df.shape}\")\n",
    "print(f\"Test2 dataset shape: {test2_df.shape}\")\n"
   ]
  },
  {
   "cell_type": "code",
   "execution_count": 19,
   "id": "f0dad218",
   "metadata": {},
   "outputs": [
    {
     "data": {
      "text/html": [
       "<div>\n",
       "<style scoped>\n",
       "    .dataframe tbody tr th:only-of-type {\n",
       "        vertical-align: middle;\n",
       "    }\n",
       "\n",
       "    .dataframe tbody tr th {\n",
       "        vertical-align: top;\n",
       "    }\n",
       "\n",
       "    .dataframe thead th {\n",
       "        text-align: right;\n",
       "    }\n",
       "</style>\n",
       "<table border=\"1\" class=\"dataframe\">\n",
       "  <thead>\n",
       "    <tr style=\"text-align: right;\">\n",
       "      <th></th>\n",
       "      <th>Unnamed: 0</th>\n",
       "      <th>Date</th>\n",
       "      <th>Time</th>\n",
       "      <th>CO(GT)</th>\n",
       "      <th>PT08.S1(CO)</th>\n",
       "      <th>NMHC(GT)</th>\n",
       "      <th>C6H6(GT)</th>\n",
       "      <th>PT08.S2(NMHC)</th>\n",
       "      <th>NOx(GT)</th>\n",
       "      <th>PT08.S3(NOx)</th>\n",
       "      <th>NO2(GT)</th>\n",
       "      <th>PT08.S4(NO2)</th>\n",
       "      <th>PT08.S5(O3)</th>\n",
       "      <th>T</th>\n",
       "      <th>RH</th>\n",
       "      <th>AH</th>\n",
       "      <th>Unnamed: 15</th>\n",
       "      <th>Unnamed: 16</th>\n",
       "    </tr>\n",
       "  </thead>\n",
       "  <tbody>\n",
       "    <tr>\n",
       "      <th>0</th>\n",
       "      <td>1849</td>\n",
       "      <td>26/05/2004</td>\n",
       "      <td>19.00.00</td>\n",
       "      <td>-200</td>\n",
       "      <td>1130.0</td>\n",
       "      <td>-200.0</td>\n",
       "      <td>22,7</td>\n",
       "      <td>1368.0</td>\n",
       "      <td>-200.0</td>\n",
       "      <td>933.0</td>\n",
       "      <td>-200.0</td>\n",
       "      <td>1709.0</td>\n",
       "      <td>1269.0</td>\n",
       "      <td>26,7</td>\n",
       "      <td>19,5</td>\n",
       "      <td>0,6754</td>\n",
       "      <td>NaN</td>\n",
       "      <td>NaN</td>\n",
       "    </tr>\n",
       "    <tr>\n",
       "      <th>1</th>\n",
       "      <td>2533</td>\n",
       "      <td>24/06/2004</td>\n",
       "      <td>07.00.00</td>\n",
       "      <td>1,2</td>\n",
       "      <td>1030.0</td>\n",
       "      <td>-200.0</td>\n",
       "      <td>6,9</td>\n",
       "      <td>851.0</td>\n",
       "      <td>102.0</td>\n",
       "      <td>824.0</td>\n",
       "      <td>68.0</td>\n",
       "      <td>1700.0</td>\n",
       "      <td>983.0</td>\n",
       "      <td>21,9</td>\n",
       "      <td>57,0</td>\n",
       "      <td>1,4742</td>\n",
       "      <td>NaN</td>\n",
       "      <td>NaN</td>\n",
       "    </tr>\n",
       "    <tr>\n",
       "      <th>2</th>\n",
       "      <td>3047</td>\n",
       "      <td>15/07/2004</td>\n",
       "      <td>17.00.00</td>\n",
       "      <td>3,2</td>\n",
       "      <td>1164.0</td>\n",
       "      <td>-200.0</td>\n",
       "      <td>20,3</td>\n",
       "      <td>1306.0</td>\n",
       "      <td>259.0</td>\n",
       "      <td>648.0</td>\n",
       "      <td>198.0</td>\n",
       "      <td>1886.0</td>\n",
       "      <td>1218.0</td>\n",
       "      <td>35,5</td>\n",
       "      <td>19,1</td>\n",
       "      <td>1,0888</td>\n",
       "      <td>NaN</td>\n",
       "      <td>NaN</td>\n",
       "    </tr>\n",
       "    <tr>\n",
       "      <th>3</th>\n",
       "      <td>805</td>\n",
       "      <td>13/04/2004</td>\n",
       "      <td>07.00.00</td>\n",
       "      <td>3,9</td>\n",
       "      <td>1496.0</td>\n",
       "      <td>524.0</td>\n",
       "      <td>19,1</td>\n",
       "      <td>1272.0</td>\n",
       "      <td>328.0</td>\n",
       "      <td>667.0</td>\n",
       "      <td>130.0</td>\n",
       "      <td>2011.0</td>\n",
       "      <td>1399.0</td>\n",
       "      <td>11,0</td>\n",
       "      <td>64,2</td>\n",
       "      <td>0,8398</td>\n",
       "      <td>NaN</td>\n",
       "      <td>NaN</td>\n",
       "    </tr>\n",
       "    <tr>\n",
       "      <th>4</th>\n",
       "      <td>2962</td>\n",
       "      <td>12/07/2004</td>\n",
       "      <td>04.00.00</td>\n",
       "      <td>-200</td>\n",
       "      <td>780.0</td>\n",
       "      <td>-200.0</td>\n",
       "      <td>1,8</td>\n",
       "      <td>568.0</td>\n",
       "      <td>24.0</td>\n",
       "      <td>1200.0</td>\n",
       "      <td>34.0</td>\n",
       "      <td>1331.0</td>\n",
       "      <td>501.0</td>\n",
       "      <td>19,9</td>\n",
       "      <td>51,3</td>\n",
       "      <td>1,1803</td>\n",
       "      <td>NaN</td>\n",
       "      <td>NaN</td>\n",
       "    </tr>\n",
       "  </tbody>\n",
       "</table>\n",
       "</div>"
      ],
      "text/plain": [
       "   Unnamed: 0        Date      Time CO(GT)  PT08.S1(CO)  NMHC(GT) C6H6(GT)  \\\n",
       "0        1849  26/05/2004  19.00.00   -200       1130.0    -200.0     22,7   \n",
       "1        2533  24/06/2004  07.00.00    1,2       1030.0    -200.0      6,9   \n",
       "2        3047  15/07/2004  17.00.00    3,2       1164.0    -200.0     20,3   \n",
       "3         805  13/04/2004  07.00.00    3,9       1496.0     524.0     19,1   \n",
       "4        2962  12/07/2004  04.00.00   -200        780.0    -200.0      1,8   \n",
       "\n",
       "   PT08.S2(NMHC)  NOx(GT)  PT08.S3(NOx)  NO2(GT)  PT08.S4(NO2)  PT08.S5(O3)  \\\n",
       "0         1368.0   -200.0         933.0   -200.0        1709.0       1269.0   \n",
       "1          851.0    102.0         824.0     68.0        1700.0        983.0   \n",
       "2         1306.0    259.0         648.0    198.0        1886.0       1218.0   \n",
       "3         1272.0    328.0         667.0    130.0        2011.0       1399.0   \n",
       "4          568.0     24.0        1200.0     34.0        1331.0        501.0   \n",
       "\n",
       "      T    RH      AH  Unnamed: 15  Unnamed: 16  \n",
       "0  26,7  19,5  0,6754          NaN          NaN  \n",
       "1  21,9  57,0  1,4742          NaN          NaN  \n",
       "2  35,5  19,1  1,0888          NaN          NaN  \n",
       "3  11,0  64,2  0,8398          NaN          NaN  \n",
       "4  19,9  51,3  1,1803          NaN          NaN  "
      ]
     },
     "execution_count": 19,
     "metadata": {},
     "output_type": "execute_result"
    }
   ],
   "source": [
    "train_df.head()"
   ]
  },
  {
   "cell_type": "markdown",
   "id": "9ba83d8b",
   "metadata": {},
   "source": [
    "For each test dataset (test1.csv and test2.csv), compare it with train.csv using the Kolmogorov–Smirnov test (scipy.stats.ks_2samp).\n",
    "Perform the KS test on the NO2(GT) column to identify whether there are any distributional differences."
   ]
  },
  {
   "cell_type": "code",
   "execution_count": 20,
   "id": "07cd810a",
   "metadata": {},
   "outputs": [
    {
     "name": "stdout",
     "output_type": "stream",
     "text": [
      "\n",
      "KS Test Results for NO2(GT):\n",
      "Test1 vs Train: KS statistic = 0.0191, p-value = 0.9722\n",
      "Test2 vs Train: KS statistic = 0.4075, p-value = 0.0000\n"
     ]
    }
   ],
   "source": [
    "\n",
    "# Test 1 vs Train\n",
    "ks_stat_test1, p_value_test1 = stats.ks_2samp(train_df['NO2(GT)'].dropna(), \n",
    "                                              test1_df['NO2(GT)'].dropna())\n",
    "\n",
    "# Test 2 vs Train\n",
    "ks_stat_test2, p_value_test2 = stats.ks_2samp(train_df['NO2(GT)'].dropna(), \n",
    "                                              test2_df['NO2(GT)'].dropna())\n",
    "\n",
    "print(f\"\\nKS Test Results for NO2(GT):\")\n",
    "print(f\"Test1 vs Train: KS statistic = {ks_stat_test1:.4f}, p-value = {p_value_test1:.4f}\")\n",
    "print(f\"Test2 vs Train: KS statistic = {ks_stat_test2:.4f}, p-value = {p_value_test2:.4f}\")\n"
   ]
  },
  {
   "cell_type": "markdown",
   "id": "070f661a",
   "metadata": {},
   "source": [
    "Report the KS statistic and p-value for each feature."
   ]
  },
  {
   "cell_type": "code",
   "execution_count": 22,
   "id": "6885ad27",
   "metadata": {},
   "outputs": [],
   "source": [
    "# Define a function to perform KS test for a specific column\n",
    "def perform_ks_test(col_name):\n",
    "    if col_name in ['Unnamed: 15', 'Unnamed: 16']:\n",
    "        return None, None, None, None\n",
    "    \n",
    "    try:\n",
    "        # Test1 vs Train\n",
    "        ks_stat_1, p_val_1 = stats.ks_2samp(train_df[col_name].dropna(), \n",
    "                                           test1_df[col_name].dropna())\n",
    "        \n",
    "        # Test2 vs Train\n",
    "        ks_stat_2, p_val_2 = stats.ks_2samp(train_df[col_name].dropna(), \n",
    "                                           test2_df[col_name].dropna())\n",
    "        \n",
    "        return ks_stat_1, p_val_1, ks_stat_2, p_val_2\n",
    "    except:\n",
    "        return None, None, None, None\n"
   ]
  },
  {
   "cell_type": "code",
   "execution_count": 23,
   "id": "093f5b86",
   "metadata": {},
   "outputs": [],
   "source": [
    "\n",
    "# Create empty lists to store results\n",
    "columns = []\n",
    "ks_test1 = []\n",
    "p_test1 = []\n",
    "ks_test2 = []\n",
    "p_test2 = []"
   ]
  },
  {
   "cell_type": "code",
   "execution_count": 24,
   "id": "33f95283",
   "metadata": {},
   "outputs": [],
   "source": [
    "\n",
    "# Calculate KS test for each numerical column\n",
    "for column in train_df.columns:\n",
    "    if column not in ['Date', 'Time']:\n",
    "        ks_stat_1, p_val_1, ks_stat_2, p_val_2 = perform_ks_test(column)\n",
    "        \n",
    "        if ks_stat_1 is not None:\n",
    "            columns.append(column)\n",
    "            ks_test1.append(ks_stat_1)\n",
    "            p_test1.append(p_val_1)\n",
    "            ks_test2.append(ks_stat_2)\n",
    "            p_test2.append(p_val_2)\n"
   ]
  },
  {
   "cell_type": "code",
   "execution_count": 25,
   "id": "f0c2ec6d",
   "metadata": {},
   "outputs": [
    {
     "name": "stdout",
     "output_type": "stream",
     "text": [
      "      Feature  KS_Stat_Test1  p_value_Test1  KS_Stat_Test2  p_value_Test2\n",
      "   Unnamed: 0         0.0462         0.1270         1.0000         0.0000\n",
      "       CO(GT)         0.0256         0.7888         0.2128         0.0000\n",
      "  PT08.S1(CO)         0.0328         0.4900         0.1275         0.0000\n",
      "     NMHC(GT)         0.0128         0.9999         0.2272         0.0000\n",
      "     C6H6(GT)         0.0353         0.3966         0.0556         0.0372\n",
      "PT08.S2(NMHC)         0.0216         0.9235         0.1419         0.0000\n",
      "      NOx(GT)         0.0175         0.9885         0.5241         0.0000\n",
      " PT08.S3(NOx)         0.0344         0.4304         0.3228         0.0000\n",
      "      NO2(GT)         0.0191         0.9722         0.4075         0.0000\n",
      " PT08.S4(NO2)         0.0200         0.9574         0.5972         0.0000\n",
      "  PT08.S5(O3)         0.0281         0.6856         0.1366         0.0000\n",
      "            T         0.0184         0.9799         0.2537         0.0000\n",
      "           RH         0.0163         0.9953         0.1787         0.0000\n",
      "           AH         0.0256         0.7888         0.4019         0.0000\n"
     ]
    }
   ],
   "source": [
    "\n",
    "# Create a DataFrame to display the results\n",
    "results_df = pd.DataFrame({\n",
    "    'Feature': columns,\n",
    "    'KS_Stat_Test1': ks_test1,\n",
    "    'p_value_Test1': p_test1,\n",
    "    'KS_Stat_Test2': ks_test2,\n",
    "    'p_value_Test2': p_test2\n",
    "})\n",
    "\n",
    "print(results_df.to_string(index=False, float_format=lambda x: f\"{x:.4f}\"))"
   ]
  },
  {
   "cell_type": "markdown",
   "id": "c3ece90a",
   "metadata": {},
   "source": [
    "Determine which of the two test datasets (test1.csv or test2.csv) exhibits a covariate shift relative to the training dataset (train.csv). Use the results of the Kolmogorov–Smirnov test to support your answer."
   ]
  },
  {
   "cell_type": "code",
   "execution_count": 26,
   "id": "2b1910be",
   "metadata": {},
   "outputs": [
    {
     "name": "stdout",
     "output_type": "stream",
     "text": [
      "Number of features with significant distributional differences (p < 0.05):\n",
      "Test1 vs Train: 0 out of 14\n",
      "Test2 vs Train: 14 out of 14\n",
      "\n",
      "Average KS statistic:\n",
      "Test1 vs Train: 0.0253\n",
      "Test2 vs Train: 0.3277\n"
     ]
    }
   ],
   "source": [
    "\n",
    "# Count significant differences (p < 0.05) for each test dataset\n",
    "sig_diff_test1 = sum(results_df['p_value_Test1'] < 0.05)\n",
    "sig_diff_test2 = sum(results_df['p_value_Test2'] < 0.05)\n",
    "\n",
    "print(f\"Number of features with significant distributional differences (p < 0.05):\")\n",
    "print(f\"Test1 vs Train: {sig_diff_test1} out of {len(columns)}\")\n",
    "print(f\"Test2 vs Train: {sig_diff_test2} out of {len(columns)}\")\n",
    "\n",
    "# Calculate average KS statistic for each test dataset\n",
    "avg_ks_test1 = np.mean(results_df['KS_Stat_Test1'])\n",
    "avg_ks_test2 = np.mean(results_df['KS_Stat_Test2'])\n",
    "\n",
    "print(f\"\\nAverage KS statistic:\")\n",
    "print(f\"Test1 vs Train: {avg_ks_test1:.4f}\")\n",
    "print(f\"Test2 vs Train: {avg_ks_test2:.4f}\")"
   ]
  },
  {
   "cell_type": "code",
   "execution_count": 27,
   "id": "82aec87e",
   "metadata": {},
   "outputs": [
    {
     "data": {
      "image/png": "[encoded data removed]",
      "text/plain": [
       "<Figure size 1200x600 with 2 Axes>"
      ]
     },
     "metadata": {},
     "output_type": "display_data"
    }
   ],
   "source": [
    "\n",
    "# Visualize distribution differences for NO2(GT)\n",
    "plt.figure(figsize=(12, 6))\n",
    "\n",
    "# NO2(GT) distributions\n",
    "plt.subplot(1, 2, 1)\n",
    "sns.kdeplot(train_df['NO2(GT)'].dropna(), label='Train', color='blue')\n",
    "sns.kdeplot(test1_df['NO2(GT)'].dropna(), label='Test1', color='green')\n",
    "plt.title(f'NO2(GT) Distribution: Train vs Test1\\nKS={ks_stat_test1:.4f}, p={p_value_test1:.4f}')\n",
    "plt.xlabel('NO2(GT)')\n",
    "plt.legend()\n",
    "\n",
    "plt.subplot(1, 2, 2)\n",
    "sns.kdeplot(train_df['NO2(GT)'].dropna(), label='Train', color='blue')\n",
    "sns.kdeplot(test2_df['NO2(GT)'].dropna(), label='Test2', color='red')\n",
    "plt.title(f'NO2(GT) Distribution: Train vs Test2\\nKS={ks_stat_test2:.4f}, p={p_value_test2:.4f}')\n",
    "plt.xlabel('NO2(GT)')\n",
    "plt.legend()\n",
    "\n",
    "plt.tight_layout()\n",
    "plt.show()\n"
   ]
  },
  {
   "cell_type": "code",
   "execution_count": 28,
   "id": "b17f7cd4",
   "metadata": {},
   "outputs": [
    {
     "name": "stdout",
     "output_type": "stream",
     "text": [
      "\n",
      "Conclusion:\n",
      "Test2 exhibits stronger covariate shift relative to the training dataset.\n"
     ]
    }
   ],
   "source": [
    "\n",
    "# Conclusion\n",
    "print(\"\\nConclusion:\")\n",
    "if avg_ks_test1 > avg_ks_test2 and sig_diff_test1 > sig_diff_test2:\n",
    "    print(\"Test1 exhibits stronger covariate shift relative to the training dataset.\")\n",
    "elif avg_ks_test2 > avg_ks_test1 and sig_diff_test2 > sig_diff_test1:\n",
    "    print(\"Test2 exhibits stronger covariate shift relative to the training dataset.\")\n",
    "else:\n",
    "    # If the results are mixed, look at NO2(GT) specifically as mentioned in the task\n",
    "    if ks_stat_test1 > ks_stat_test2 and p_value_test1 < p_value_test2:\n",
    "        print(\"Based on the NO2(GT) column, Test1 exhibits stronger covariate shift relative to the training dataset.\")\n",
    "    elif ks_stat_test2 > ks_stat_test1 and p_value_test2 < p_value_test1:\n",
    "        print(\"Based on the NO2(GT) column, Test2 exhibits stronger covariate shift relative to the training dataset.\")\n",
    "    else:\n",
    "        print(\"Results are mixed across features. Further analysis is recommended.\")"
   ]
  },
  {
   "cell_type": "code",
   "execution_count": null,
   "id": "becbdd14",
   "metadata": {},
   "outputs": [],
   "source": []
  }
 ],
 "metadata": {
  "kernelspec": {
   "display_name": "Python 3",
   "language": "python",
   "name": "python3"
  },
  "language_info": {
   "codemirror_mode": {
    "name": "ipython",
    "version": 3
   },
   "file_extension": ".py",
   "mimetype": "text/x-python",
   "name": "python",
   "nbconvert_exporter": "python",
   "pygments_lexer": "ipython3",
   "version": "3.11.9"
  }
 },
 "nbformat": 4,
 "nbformat_minor": 5
}
