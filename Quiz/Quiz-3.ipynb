{
 "cells": [
  {
   "cell_type": "code",
   "execution_count": 1,
   "id": "2e4f6585",
   "metadata": {},
   "outputs": [
    {
     "name": "stdout",
     "output_type": "stream",
     "text": [
      "Requirement already satisfied: pandas in c:\\users\\jenil\\appdata\\local\\programs\\python\\python39\\lib\\site-packages (2.1.4)\n",
      "Requirement already satisfied: numpy<2,>=1.22.4 in c:\\users\\jenil\\appdata\\local\\programs\\python\\python39\\lib\\site-packages (from pandas) (1.26.4)\n",
      "Requirement already satisfied: python-dateutil>=2.8.2 in c:\\users\\jenil\\appdata\\local\\programs\\python\\python39\\lib\\site-packages (from pandas) (2.9.0.post0)\n",
      "Requirement already satisfied: pytz>=2020.1 in c:\\users\\jenil\\appdata\\local\\programs\\python\\python39\\lib\\site-packages (from pandas) (2022.7.1)\n",
      "Requirement already satisfied: tzdata>=2022.1 in c:\\users\\jenil\\appdata\\local\\programs\\python\\python39\\lib\\site-packages (from pandas) (2024.1)\n",
      "Requirement already satisfied: six>=1.5 in c:\\users\\jenil\\appdata\\local\\programs\\python\\python39\\lib\\site-packages (from python-dateutil>=2.8.2->pandas) (1.16.0)\n",
      "Note: you may need to restart the kernel to use updated packages.\n"
     ]
    },
    {
     "name": "stderr",
     "output_type": "stream",
     "text": [
      "WARNING: Ignoring invalid distribution -lotly (c:\\users\\jenil\\appdata\\local\\programs\\python\\python39\\lib\\site-packages)\n",
      "WARNING: Ignoring invalid distribution -lotly (c:\\users\\jenil\\appdata\\local\\programs\\python\\python39\\lib\\site-packages)\n",
      "WARNING: Ignoring invalid distribution -lotly (c:\\users\\jenil\\appdata\\local\\programs\\python\\python39\\lib\\site-packages)\n"
     ]
    }
   ],
   "source": [
    "%pip install pandas"
   ]
  },
  {
   "cell_type": "code",
   "execution_count": null,
   "id": "9f575b9e",
   "metadata": {},
   "outputs": [],
   "source": []
  },
  {
   "cell_type": "markdown",
   "id": "7ed1f9df",
   "metadata": {},
   "source": [
    "# TASK-1\n"
   ]
  },
  {
   "cell_type": "markdown",
   "id": "a3a5e95f",
   "metadata": {},
   "source": [
    "## 1. Dataset Preparation "
   ]
  },
  {
   "cell_type": "code",
   "execution_count": null,
   "id": "ad7c5207",
   "metadata": {},
   "outputs": [
    {
     "name": "stdout",
     "output_type": "stream",
     "text": [
      "Dataset loaded with 90189 rows and 5 columns.\n"
     ]
    },
    {
     "data": {
      "text/html": [
       "<div>\n",
       "<style scoped>\n",
       "    .dataframe tbody tr th:only-of-type {\n",
       "        vertical-align: middle;\n",
       "    }\n",
       "\n",
       "    .dataframe tbody tr th {\n",
       "        vertical-align: top;\n",
       "    }\n",
       "\n",
       "    .dataframe thead th {\n",
       "        text-align: right;\n",
       "    }\n",
       "</style>\n",
       "<table border=\"1\" class=\"dataframe\">\n",
       "  <thead>\n",
       "    <tr style=\"text-align: right;\">\n",
       "      <th></th>\n",
       "      <th>userid</th>\n",
       "      <th>version</th>\n",
       "      <th>sum_gamerounds</th>\n",
       "      <th>retention_1</th>\n",
       "      <th>retention_7</th>\n",
       "    </tr>\n",
       "  </thead>\n",
       "  <tbody>\n",
       "    <tr>\n",
       "      <th>0</th>\n",
       "      <td>116</td>\n",
       "      <td>gate_30</td>\n",
       "      <td>3</td>\n",
       "      <td>False</td>\n",
       "      <td>False</td>\n",
       "    </tr>\n",
       "    <tr>\n",
       "      <th>1</th>\n",
       "      <td>337</td>\n",
       "      <td>gate_30</td>\n",
       "      <td>38</td>\n",
       "      <td>True</td>\n",
       "      <td>False</td>\n",
       "    </tr>\n",
       "    <tr>\n",
       "      <th>2</th>\n",
       "      <td>377</td>\n",
       "      <td>gate_40</td>\n",
       "      <td>165</td>\n",
       "      <td>True</td>\n",
       "      <td>False</td>\n",
       "    </tr>\n",
       "    <tr>\n",
       "      <th>3</th>\n",
       "      <td>483</td>\n",
       "      <td>gate_40</td>\n",
       "      <td>1</td>\n",
       "      <td>False</td>\n",
       "      <td>False</td>\n",
       "    </tr>\n",
       "    <tr>\n",
       "      <th>4</th>\n",
       "      <td>488</td>\n",
       "      <td>gate_40</td>\n",
       "      <td>179</td>\n",
       "      <td>True</td>\n",
       "      <td>True</td>\n",
       "    </tr>\n",
       "  </tbody>\n",
       "</table>\n",
       "</div>"
      ],
      "text/plain": [
       "   userid  version  sum_gamerounds  retention_1  retention_7\n",
       "0     116  gate_30               3        False        False\n",
       "1     337  gate_30              38         True        False\n",
       "2     377  gate_40             165         True        False\n",
       "3     483  gate_40               1        False        False\n",
       "4     488  gate_40             179         True         True"
      ]
     },
     "execution_count": 33,
     "metadata": {},
     "output_type": "execute_result"
    }
   ],
   "source": [
    "import pandas as pd\n",
    "\n",
    "\n",
    "# Load the dataset with userid,version,sum_gamerounds,retention_1,retention_7\n",
    "df = pd.read_csv(\"./cookie_cats.csv\")\n",
    "print(f\"Dataset loaded with {df.shape[0]} rows and {df.shape[1]} columns.\")\n",
    "\n",
    "df.head()"
   ]
  },
  {
   "cell_type": "code",
   "execution_count": 34,
   "id": "3a14afee",
   "metadata": {},
   "outputs": [
    {
     "data": {
      "text/plain": [
       "(90189, 5)"
      ]
     },
     "execution_count": 34,
     "metadata": {},
     "output_type": "execute_result"
    }
   ],
   "source": [
    "df.shape"
   ]
  },
  {
   "cell_type": "markdown",
   "id": "13ff8e70",
   "metadata": {},
   "source": [
    "## 2. Remove any rows with null values"
   ]
  },
  {
   "cell_type": "code",
   "execution_count": 35,
   "id": "30d0efab",
   "metadata": {},
   "outputs": [
    {
     "data": {
      "text/plain": [
       "(90189, 3)"
      ]
     },
     "execution_count": 35,
     "metadata": {},
     "output_type": "execute_result"
    }
   ],
   "source": [
    "selected_columns = df[[\"version\", \"retention_1\", \"retention_7\"]]\n",
    "selected_columns.shape"
   ]
  },
  {
   "cell_type": "code",
   "execution_count": 36,
   "id": "74cb9792",
   "metadata": {},
   "outputs": [
    {
     "name": "stdout",
     "output_type": "stream",
     "text": [
      "Missing values before cleaning:\n",
      "version        0\n",
      "retention_1    0\n",
      "retention_7    0\n",
      "dtype: int64\n",
      "\n",
      "Rows with null values removed. Updated dataset shape:\n",
      "(90189, 5)\n",
      "\n",
      "Missing values after cleaning:\n",
      "version        0\n",
      "retention_1    0\n",
      "retention_7    0\n",
      "dtype: int64\n"
     ]
    }
   ],
   "source": [
    "\n",
    "# Check for null values\n",
    "print(\"Missing values before cleaning:\")\n",
    "print(selected_columns.isnull().sum())\n",
    "\n",
    "# Remove rows with null values in the selected columns\n",
    "df = df.dropna(subset=[\"version\", \"retention_1\", \"retention_7\"])\n",
    "\n",
    "print(\"\\nRows with null values removed. Updated dataset shape:\")\n",
    "print(df.shape)\n",
    "            \n",
    "print(\"\\nMissing values after cleaning:\")\n",
    "print(selected_columns.isnull().sum())"
   ]
  },
  {
   "cell_type": "markdown",
   "id": "99095e9d",
   "metadata": {},
   "source": [
    "## 2.Encode the values"
   ]
  },
  {
   "cell_type": "code",
   "execution_count": 37,
   "id": "f5269224",
   "metadata": {},
   "outputs": [
    {
     "name": "stdout",
     "output_type": "stream",
     "text": [
      "Encoding completed. Sample data:\n",
      "   retention_1  retention_7\n",
      "0            0            0\n",
      "1            1            0\n",
      "2            1            0\n",
      "3            0            0\n",
      "4            1            1\n"
     ]
    }
   ],
   "source": [
    "from sklearn.preprocessing import LabelEncoder\n",
    "\n",
    "# Create a copy to hold encoded data\n",
    "df_enc = df.copy()\n",
    "\n",
    "# Initialize separate LabelEncoders for each column\n",
    "label_encoder_1 = LabelEncoder()\n",
    "label_encoder_7 = LabelEncoder()\n",
    "\n",
    "# Encode each column separately\n",
    "df_enc['retention_1'] = label_encoder_1.fit_transform(df['retention_1'])\n",
    "df_enc['retention_7'] = label_encoder_7.fit_transform(df['retention_7'])\n",
    "\n",
    "print(\"Encoding completed. Sample data:\")\n",
    "print(df_enc[['retention_1', 'retention_7']].head())\n"
   ]
  },
  {
   "cell_type": "markdown",
   "id": "01593421",
   "metadata": {},
   "source": [
    "## 3.Group Separation "
   ]
  },
  {
   "cell_type": "code",
   "execution_count": 46,
   "id": "29533c67",
   "metadata": {},
   "outputs": [
    {
     "name": "stdout",
     "output_type": "stream",
     "text": [
      "Group A size: 44700\n",
      "Group B size: 45489\n"
     ]
    }
   ],
   "source": [
    "# Filter for gate_30, gate_40 only (excluding Side if present)\n",
    "grp_ab_df = df_enc[df_enc['version'].isin(['gate_30', 'gate_40'])]\n",
    "\n",
    "group_a = grp_ab_df[grp_ab_df['version'] == 'gate_30']\n",
    "group_b = grp_ab_df[grp_ab_df['version'] == 'gate_40']\n",
    "\n",
    "print(f\"Group A size: {len(group_a)}\")\n",
    "print(f\"Group B size: {len(group_b)}\")\n"
   ]
  },
  {
   "cell_type": "markdown",
   "id": "0ceaebbf",
   "metadata": {},
   "source": [
    "## 4. Hypothesis Testing (z-test)"
   ]
  },
  {
   "cell_type": "code",
   "execution_count": 58,
   "id": "2b8738cf",
   "metadata": {},
   "outputs": [
    {
     "name": "stdout",
     "output_type": "stream",
     "text": [
      "Retention_1 rate for Group A: 44.82%\n",
      "Retention_1 rate for Group B: 44.23%\n",
      "Retention_7 rate for Group A: 19.02%\n",
      "Retention_7 rate for Group B: 18.20%\n"
     ]
    }
   ],
   "source": [
    "# Calculate success counts (clicks) for each group\n",
    "retention_1_a = group_a['retention_1'].sum()\n",
    "retention_1_b = group_b['retention_1'].sum()\n",
    "\n",
    "# Total observations in each group\n",
    "nobs_1_a = len(group_a)\n",
    "nobs_1_b = len(group_b)\n",
    "\n",
    "# Print the click-through rates\n",
    "ctr_a = retention_1_a / nobs_1_a * 100\n",
    "ctr_b = retention_1_b / nobs_1_b * 100\n",
    "print(f\"Retention_1 rate for Group A: {ctr_a:.2f}%\")\n",
    "print(f\"Retention_1 rate for Group B: {ctr_b:.2f}%\")\n",
    "\n",
    "\n",
    "# Calculate success counts (clicks) for each group\n",
    "retention_7_a = group_a['retention_7'].sum()\n",
    "retention_7_b = group_b['retention_7'].sum()\n",
    "\n",
    "# Total observations in each group\n",
    "nobs_7_a = len(group_a)\n",
    "nobs_7_b = len(group_b)\n",
    "\n",
    "# Print the click-through rates\n",
    "ctr_a = retention_7_a / nobs_7_a * 100\n",
    "ctr_b = retention_7_b / nobs_7_b * 100\n",
    "print(f\"Retention_7 rate for Group A: {ctr_a:.2f}%\")\n",
    "print(f\"Retention_7 rate for Group B: {ctr_b:.2f}%\")\n"
   ]
  },
  {
   "cell_type": "markdown",
   "id": "4a738272",
   "metadata": {},
   "source": [
    "## 5. Report the z-score and p-value for each test."
   ]
  },
  {
   "cell_type": "code",
   "execution_count": 59,
   "id": "efdaca35",
   "metadata": {},
   "outputs": [
    {
     "name": "stdout",
     "output_type": "stream",
     "text": [
      "Retention_1 z = 1.78, p = 0.0744\n",
      "Retention_7 z = 3.16, p = 0.0016\n"
     ]
    }
   ],
   "source": [
    "from statsmodels.stats.proportion import proportions_ztest\n",
    "\n",
    "\n",
    "# Z-test for retention_1\n",
    "zstat_1, pval_1 = proportions_ztest([retention_1_a, retention_1_b], [nobs_1_a, nobs_1_b])\n",
    "zstat_7, pval_7 = proportions_ztest([retention_7_a, retention_7_b], [nobs_7_a, nobs_7_b])\n",
    "\n",
    "\n",
    "print(f\"Retention_1 z = {zstat_1:.2f}, p = {pval_1:.4f}\")\n",
    "print(f\"Retention_7 z = {zstat_7:.2f}, p = {pval_7:.4f}\")\n"
   ]
  },
  {
   "cell_type": "markdown",
   "id": "bfae4712",
   "metadata": {},
   "source": [
    "## 6. Analysis & Interpretation "
   ]
  },
  {
   "cell_type": "code",
   "execution_count": 61,
   "id": "8a5c46b4",
   "metadata": {},
   "outputs": [
    {
     "name": "stdout",
     "output_type": "stream",
     "text": [
      "\n",
      "Retention_1 Results:\n",
      "The p-value (0.0744) is greater than the significance level (0.05).\n",
      "Therefore, we fail to reject the null hypothesis.\n",
      "CONCLUSION: There is no statistically significant difference in retention rates between ads positioned\n",
      "at the top versus the bottom of the webpage.\n",
      "\n",
      "Retention_7 Results:\n",
      "The p-value (0.0016) is less than the significance level (0.05).\n",
      "Therefore, we reject the null hypothesis.\n",
      "CONCLUSION: There is a statistically significant difference in retention rates between ads positioned\n",
      "at the top versus the bottom of the webpage.\n",
      "Top positioned ads have a higher retention rate than bottom positioned ads.\n"
     ]
    }
   ],
   "source": [
    "# Interpreting the results\n",
    "\n",
    "def interpret_results(zstat, pval, alpha=0.05):\n",
    "    if pval < alpha:\n",
    "        print(f\"The p-value ({pval:.4f}) is less than the significance level ({alpha}).\")\n",
    "        print(\"Therefore, we reject the null hypothesis.\")\n",
    "        print(\"CONCLUSION: There is a statistically significant difference in retention rates between ads positioned\")\n",
    "        print(\"at the top versus the bottom of the webpage.\")\n",
    "        \n",
    "        if zstat > 0:\n",
    "            print(f\"Top positioned ads have a higher retention rate than bottom positioned ads.\")\n",
    "        else:\n",
    "            print(f\"Bottom positioned ads have a higher retention rate than top positioned ads.\")\n",
    "    else:\n",
    "        print(f\"The p-value ({pval:.4f}) is greater than the significance level ({alpha}).\")\n",
    "        print(\"Therefore, we fail to reject the null hypothesis.\")\n",
    "        print(\"CONCLUSION: There is no statistically significant difference in retention rates between ads positioned\")\n",
    "        print(\"at the top versus the bottom of the webpage.\")\n",
    "\n",
    "# Interpret results for retention_1 \n",
    "print(\"\\nRetention_1 Results:\")\n",
    "interpret_results(zstat_1, pval_1)\n",
    "\n",
    "# Interpret results for retention_7\n",
    "print(\"\\nRetention_7 Results:\")\n",
    "interpret_results(zstat_7, pval_7)"
   ]
  },
  {
   "cell_type": "markdown",
   "id": "cac80470",
   "metadata": {},
   "source": [
    "# TASK - 2"
   ]
  },
  {
   "cell_type": "markdown",
   "id": "2b8c1816",
   "metadata": {},
   "source": [
    "## 1. load dataset"
   ]
  },
  {
   "cell_type": "code",
   "execution_count": 63,
   "id": "c1cd9739",
   "metadata": {},
   "outputs": [],
   "source": [
    "import pandas as pd\n",
    "from scipy.stats import ks_2samp\n",
    "\n",
    "# Load the CSV files\n",
    "group_a = pd.read_csv('Group_A.csv')  # Training set\n",
    "group_b = pd.read_csv('Group_B.csv')  # Test set 1\n",
    "group_c = pd.read_csv('Group_C.csv')  # Test set 2\n",
    "\n",
    "# Extract the 'price_doc' column\n",
    "price_a = group_a['price_doc']\n",
    "price_b = group_b['price_doc']\n",
    "price_c = group_c['price_doc']"
   ]
  },
  {
   "cell_type": "markdown",
   "id": "713735bd",
   "metadata": {},
   "source": [
    "## 2. The covariate shift "
   ]
  },
  {
   "cell_type": "code",
   "execution_count": 65,
   "id": "713896b0",
   "metadata": {},
   "outputs": [
    {
     "name": "stdout",
     "output_type": "stream",
     "text": [
      "KS Test between Group A and Group B:\n",
      "Statistic: 0.1471, P-value: 0.0000\n",
      "\n",
      "KS Test between Group A and Group C:\n",
      "Statistic: 0.0136, P-value: 0.2772\n"
     ]
    }
   ],
   "source": [
    "# Perform KS test between Group A and Group B\n",
    "ks_result_ab = ks_2samp(price_a, price_b)\n",
    "print(\"KS Test between Group A and Group B:\")\n",
    "print(f\"Statistic: {ks_result_ab.statistic:.4f}, P-value: {ks_result_ab.pvalue:.4f}\")\n",
    "\n",
    "# Perform KS test between Group A and Group C\n",
    "ks_result_ac = ks_2samp(price_a, price_c)\n",
    "print(\"\\nKS Test between Group A and Group C:\")\n",
    "print(f\"Statistic: {ks_result_ac.statistic:.4f}, P-value: {ks_result_ac.pvalue:.4f}\")\n"
   ]
  },
  {
   "cell_type": "markdown",
   "id": "bde0b2ea",
   "metadata": {},
   "source": [
    "## 3 Interpretation"
   ]
  },
  {
   "cell_type": "code",
   "execution_count": 66,
   "id": "44ed81bf",
   "metadata": {},
   "outputs": [
    {
     "name": "stdout",
     "output_type": "stream",
     "text": [
      "\n",
      "Group B shows a significant covariate shift from Group A.\n",
      "Group C does NOT show a significant covariate shift from Group A.\n"
     ]
    }
   ],
   "source": [
    "# Interpretation\n",
    "alpha = 0.05  # significance level\n",
    "\n",
    "if ks_result_ab.pvalue < alpha:\n",
    "    print(\"\\nGroup B shows a significant covariate shift from Group A.\")\n",
    "else:\n",
    "    print(\"\\nGroup B does NOT show a significant covariate shift from Group A.\")\n",
    "\n",
    "if ks_result_ac.pvalue < alpha:\n",
    "    print(\"Group C shows a significant covariate shift from Group A.\")\n",
    "else:\n",
    "    print(\"Group C does NOT show a significant covariate shift from Group A.\")"
   ]
  },
  {
   "cell_type": "markdown",
   "id": "f36b623d",
   "metadata": {},
   "source": [
    "# TASK - 3"
   ]
  },
  {
   "cell_type": "markdown",
   "id": "b943ea18",
   "metadata": {},
   "source": [
    "## 1. Dataset preparation"
   ]
  },
  {
   "cell_type": "code",
   "execution_count": 2,
   "id": "e5ed6a8c",
   "metadata": {},
   "outputs": [],
   "source": [
    "from datasets import load_dataset\n",
    "\n",
    "df = load_dataset(\"stanfordnlp/imdb\")"
   ]
  },
  {
   "cell_type": "code",
   "execution_count": 3,
   "id": "9ef7cd76",
   "metadata": {},
   "outputs": [
    {
     "data": {
      "text/plain": [
       "{'text': Value(dtype='string', id=None),\n",
       " 'label': ClassLabel(names=['neg', 'pos'], id=None)}"
      ]
     },
     "execution_count": 3,
     "metadata": {},
     "output_type": "execute_result"
    }
   ],
   "source": [
    "df['train'].features"
   ]
  },
  {
   "cell_type": "code",
   "execution_count": 4,
   "id": "c5c0bdab",
   "metadata": {},
   "outputs": [
    {
     "data": {
      "text/plain": [
       "(25000, 2)"
      ]
     },
     "execution_count": 4,
     "metadata": {},
     "output_type": "execute_result"
    }
   ],
   "source": [
    "df['train'].shape"
   ]
  },
  {
   "cell_type": "code",
   "execution_count": 5,
   "id": "01d6cab2",
   "metadata": {},
   "outputs": [
    {
     "name": "stdout",
     "output_type": "stream",
     "text": [
      "Converting Hugging Face Dataset to Pandas DataFrame...\n",
      "Dataset converted with 25000 rows and 2 columns.\n",
      "Splitting the dataset into train, validation, and test sets...\n",
      "Train dataset size: 20000\n",
      "Validation dataset size: 2500\n",
      "Test dataset size: 2500\n"
     ]
    }
   ],
   "source": [
    "from sklearn.model_selection import train_test_split\n",
    "\n",
    "# Convert Hugging Face Dataset to Pandas DataFrame\n",
    "print(\"Converting Hugging Face Dataset to Pandas DataFrame...\")\n",
    "df = df['train'].to_pandas()\n",
    "print(f\"Dataset converted with {df.shape[0]} rows and {df.shape[1]} columns.\")\n",
    "\n",
    "# Splitting the dataset into train, validation, and test sets\n",
    "print(\"Splitting the dataset into train, validation, and test sets...\")\n",
    "\n",
    "# Split the dataset into train (80%) and temp (20%)\n",
    "train_df, temp_df = train_test_split(df, test_size=0.2, random_state=42)\n",
    "\n",
    "# Split the temp dataset into validation (10%) and test (10%)\n",
    "val_df, test_df = train_test_split(temp_df, test_size=0.5, random_state=42)\n",
    "\n",
    "# Print the sizes of the splits\n",
    "print(f\"Train dataset size: {len(train_df)}\")\n",
    "print(f\"Validation dataset size: {len(val_df)}\")\n",
    "print(f\"Test dataset size: {len(test_df)}\")"
   ]
  },
  {
   "cell_type": "code",
   "execution_count": null,
   "id": "de610a39",
   "metadata": {},
   "outputs": [],
   "source": [
    "from sklearn.feature_extraction.text import TfidfVectorizer\n",
    "from sklearn.model_selection import train_test_split\n",
    "from torch.utils.data import TensorDataset\n",
    "import torch\n",
    "\n",
    "# Vectorize using TF-IDF\n",
    "vectorizer = TfidfVectorizer(max_features=10000)\n",
    "X_train_full = vectorizer.fit_transform(train_df['text']).toarray()\n",
    "y_train_full = train_df['label'].values\n",
    "\n",
    "X_test = vectorizer.transform(test_df['text']).toarray()\n",
    "\n",
    "# Train/Validation Split\n",
    "X_train, X_val, y_train, y_val = train_test_split(X_train_full, y_train_full, test_size=0.2, random_state=42)\n",
    "\n",
    "# Convert to tensors\n",
    "train_dataset = TensorDataset(torch.tensor(X_train, dtype=torch.float32), torch.tensor(y_train))\n",
    "val_dataset   = TensorDataset(torch.tensor(X_val, dtype=torch.float32), torch.tensor(y_val))\n",
    "test_dataset  = TensorDataset(torch.tensor(X_test, dtype=torch.float32), torch.zeros(len(X_test), dtype=torch.long))"
   ]
  },
  {
   "cell_type": "code",
   "execution_count": 14,
   "id": "26279e20",
   "metadata": {},
   "outputs": [
    {
     "data": {
      "text/plain": [
       "(torch.Size([16000, 10000]),\n",
       " torch.Size([2500, 10000]),\n",
       " torch.Size([4000, 10000]))"
      ]
     },
     "execution_count": 14,
     "metadata": {},
     "output_type": "execute_result"
    }
   ],
   "source": [
    "train_dataset.tensors[0].shape, test_dataset.tensors[0].shape, val_dataset.tensors[0].shape\n"
   ]
  },
  {
   "cell_type": "code",
   "execution_count": 15,
   "id": "5d6aebf8",
   "metadata": {},
   "outputs": [],
   "source": [
    "from torch.utils.data import DataLoader\n",
    "\n",
    "BATCH_SIZE = 64  # or 32 depending on memory\n",
    "\n",
    "train_loader = DataLoader(train_dataset, batch_size=BATCH_SIZE, shuffle=True)\n",
    "val_loader   = DataLoader(val_dataset, batch_size=BATCH_SIZE)\n",
    "test_loader  = DataLoader(test_dataset, batch_size=BATCH_SIZE)\n"
   ]
  },
  {
   "cell_type": "markdown",
   "id": "3b99809c",
   "metadata": {},
   "source": [
    "## 2. Construct a Multi-Layer Perceptron (MLP) model."
   ]
  },
  {
   "cell_type": "code",
   "execution_count": 9,
   "id": "592323a7",
   "metadata": {},
   "outputs": [],
   "source": [
    "import torch.nn as nn\n",
    "\n",
    "class MLP(nn.Module):\n",
    "    def __init__(self, input_dim, hidden_sizes, output_dim, dropout=0.3):\n",
    "        super().__init__()\n",
    "        layers = []\n",
    "        in_dim = input_dim\n",
    "        for h in hidden_sizes:\n",
    "            layers.append(nn.Linear(in_dim, h))\n",
    "            layers.append(nn.ReLU())\n",
    "            layers.append(nn.Dropout(dropout))\n",
    "            in_dim = h\n",
    "        layers.append(nn.Linear(in_dim, output_dim))\n",
    "        self.net = nn.Sequential(*layers)\n",
    "\n",
    "    def forward(self, x):\n",
    "        return self.net(x)\n",
    "\n"
   ]
  },
  {
   "cell_type": "code",
   "execution_count": 10,
   "id": "a7956e33",
   "metadata": {},
   "outputs": [
    {
     "name": "stdout",
     "output_type": "stream",
     "text": [
      "MLP(\n",
      "  (net): Sequential(\n",
      "    (0): Linear(in_features=10000, out_features=512, bias=True)\n",
      "    (1): ReLU()\n",
      "    (2): Dropout(p=0.3, inplace=False)\n",
      "    (3): Linear(in_features=512, out_features=256, bias=True)\n",
      "    (4): ReLU()\n",
      "    (5): Dropout(p=0.3, inplace=False)\n",
      "    (6): Linear(in_features=256, out_features=128, bias=True)\n",
      "    (7): ReLU()\n",
      "    (8): Dropout(p=0.3, inplace=False)\n",
      "    (9): Linear(in_features=128, out_features=64, bias=True)\n",
      "    (10): ReLU()\n",
      "    (11): Dropout(p=0.3, inplace=False)\n",
      "    (12): Linear(in_features=64, out_features=2, bias=True)\n",
      "  )\n",
      ")\n"
     ]
    }
   ],
   "source": [
    "# Initialize model\n",
    "model = MLP(input_dim=10000, hidden_sizes=[512, 256, 128, 64], output_dim=2)\n",
    "print(model)"
   ]
  },
  {
   "cell_type": "markdown",
   "id": "e8d7cb1f",
   "metadata": {},
   "source": [
    "## 3. Tokenizer"
   ]
  },
  {
   "cell_type": "code",
   "execution_count": 11,
   "id": "0a2cfd2b",
   "metadata": {},
   "outputs": [],
   "source": [
    "# Load model directly\n",
    "from transformers import AutoTokenizer\n",
    "\n",
    "tokenizer = AutoTokenizer.from_pretrained(\"google-bert/bert-base-cased\")"
   ]
  },
  {
   "cell_type": "markdown",
   "id": "fb68c43a",
   "metadata": {},
   "source": [
    "## 4. Number of parameters"
   ]
  },
  {
   "cell_type": "code",
   "execution_count": 12,
   "id": "042554b6",
   "metadata": {},
   "outputs": [
    {
     "name": "stdout",
     "output_type": "stream",
     "text": [
      "Total parameters in the model: 5.29M\n"
     ]
    }
   ],
   "source": [
    "pytorch_total_params = sum(p.numel() for p in model.parameters())\n",
    "print(f\"Total parameters in the model: {pytorch_total_params / 1e6:.2f}M\")"
   ]
  },
  {
   "cell_type": "markdown",
   "id": "6411adb5",
   "metadata": {},
   "source": [
    "## 5. Training the model "
   ]
  },
  {
   "cell_type": "code",
   "execution_count": 16,
   "id": "6427f39e",
   "metadata": {},
   "outputs": [
    {
     "name": "stdout",
     "output_type": "stream",
     "text": [
      "Using device: cuda\n",
      "Epoch 1/10 | Train Loss: 0.3746 | Val Loss: 0.2749 | Val Acc: 88.62%\n",
      "Epoch 2/10 | Train Loss: 0.1613 | Val Loss: 0.3270 | Val Acc: 88.05%\n",
      "Epoch 3/10 | Train Loss: 0.0795 | Val Loss: 0.4285 | Val Acc: 87.17%\n",
      "Epoch 4/10 | Train Loss: 0.0377 | Val Loss: 0.5640 | Val Acc: 86.95%\n",
      "Epoch 5/10 | Train Loss: 0.0213 | Val Loss: 0.8070 | Val Acc: 87.25%\n",
      "Epoch 6/10 | Train Loss: 0.0115 | Val Loss: 0.7648 | Val Acc: 86.72%\n",
      "Epoch 7/10 | Train Loss: 0.0108 | Val Loss: 0.8591 | Val Acc: 86.72%\n",
      "Epoch 8/10 | Train Loss: 0.0079 | Val Loss: 1.0577 | Val Acc: 86.50%\n",
      "Epoch 9/10 | Train Loss: 0.0086 | Val Loss: 0.7777 | Val Acc: 86.62%\n",
      "Epoch 10/10 | Train Loss: 0.0096 | Val Loss: 0.9488 | Val Acc: 86.65%\n"
     ]
    }
   ],
   "source": [
    "import torch\n",
    "import torch.nn as nn\n",
    "import torch.optim as optim\n",
    "from sklearn.metrics import accuracy_score\n",
    "import matplotlib.pyplot as plt\n",
    "\n",
    "# Set device\n",
    "device = torch.device(\"cuda\" if torch.cuda.is_available() else \"cpu\")\n",
    "print(\"Using device:\", device)\n",
    "\n",
    "# Move model to device\n",
    "model = model.to(device)\n",
    "\n",
    "# Loss and optimizer\n",
    "criterion = nn.CrossEntropyLoss()\n",
    "optimizer = optim.Adam(model.parameters(), lr=1e-3)\n",
    "\n",
    "# Training config\n",
    "num_epochs = 10\n",
    "best_val_acc = 0.0\n",
    "train_losses, val_losses, val_accuracies = [], [], []\n",
    "\n",
    "for epoch in range(num_epochs):\n",
    "    model.train()\n",
    "    epoch_train_loss = 0.0\n",
    "\n",
    "    for xb, yb in train_loader:\n",
    "        xb, yb = xb.to(device), yb.to(device)\n",
    "        optimizer.zero_grad()\n",
    "        outputs = model(xb)\n",
    "        loss = criterion(outputs, yb)\n",
    "        loss.backward()\n",
    "        optimizer.step()\n",
    "        epoch_train_loss += loss.item()\n",
    "\n",
    "    # Validation\n",
    "    model.eval()\n",
    "    val_loss = 0.0\n",
    "    preds, labels = [], []\n",
    "\n",
    "    with torch.no_grad():\n",
    "        for xb, yb in val_loader:\n",
    "            xb, yb = xb.to(device), yb.to(device)\n",
    "            outputs = model(xb)\n",
    "            loss = criterion(outputs, yb)\n",
    "            val_loss += loss.item()\n",
    "            preds += outputs.argmax(dim=1).cpu().tolist()\n",
    "            labels += yb.cpu().tolist()\n",
    "\n",
    "    acc = accuracy_score(labels, preds)\n",
    "    epoch_train_loss /= len(train_loader)\n",
    "    val_loss /= len(val_loader)\n",
    "\n",
    "    train_losses.append(epoch_train_loss)\n",
    "    val_losses.append(val_loss)\n",
    "    val_accuracies.append(acc)\n",
    "\n",
    "    print(f\"Epoch {epoch+1}/{num_epochs} | Train Loss: {epoch_train_loss:.4f} | Val Loss: {val_loss:.4f} | Val Acc: {acc*100:.2f}%\")\n",
    "\n",
    "    # Save best model\n",
    "    if acc > best_val_acc:\n",
    "        best_val_acc = acc\n",
    "        torch.save(model, \"checkpoint.pt\")\n"
   ]
  },
  {
   "cell_type": "code",
   "execution_count": 17,
   "id": "af1677b9",
   "metadata": {},
   "outputs": [
    {
     "data": {
      "image/png": "[encoded data removed]",
      "text/plain": [
       "<Figure size 1000x500 with 2 Axes>"
      ]
     },
     "metadata": {},
     "output_type": "display_data"
    }
   ],
   "source": [
    "# Plotting\n",
    "plt.figure(figsize=(10, 5))\n",
    "\n",
    "plt.subplot(1, 2, 1)\n",
    "plt.plot(range(1, num_epochs+1), val_accuracies, marker='o', color='b')\n",
    "plt.title(\"Validation Accuracy\")\n",
    "plt.xlabel(\"Epoch\")\n",
    "plt.ylabel(\"Accuracy\")\n",
    "\n",
    "plt.subplot(1, 2, 2)\n",
    "plt.plot(range(1, num_epochs+1), val_losses, marker='o', color='r')\n",
    "plt.title(\"Validation Loss\")\n",
    "plt.xlabel(\"Epoch\")\n",
    "plt.ylabel(\"Loss\")\n",
    "\n",
    "plt.tight_layout()\n",
    "plt.show()\n"
   ]
  },
  {
   "cell_type": "markdown",
   "id": "02a08119",
   "metadata": {},
   "source": [
    "# 6. Compute the number of parameters again"
   ]
  },
  {
   "cell_type": "code",
   "execution_count": 18,
   "id": "101caf1d",
   "metadata": {},
   "outputs": [
    {
     "name": "stderr",
     "output_type": "stream",
     "text": [
      "C:\\Users\\JENIL\\AppData\\Local\\Temp\\ipykernel_15604\\1656821408.py:1: FutureWarning: You are using `torch.load` with `weights_only=False` (the current default value), which uses the default pickle module implicitly. It is possible to construct malicious pickle data which will execute arbitrary code during unpickling (See https://github.com/pytorch/pytorch/blob/main/SECURITY.md#untrusted-models for more details). In a future release, the default value for `weights_only` will be flipped to `True`. This limits the functions that could be executed during unpickling. Arbitrary objects will no longer be allowed to be loaded via this mode unless they are explicitly allowlisted by the user via `torch.serialization.add_safe_globals`. We recommend you start setting `weights_only=True` for any use case where you don't have full control of the loaded file. Please open an issue on GitHub for any issues related to this experimental feature.\n",
      "  model = torch.load(\"checkpoint.pt\")\n"
     ]
    },
    {
     "name": "stdout",
     "output_type": "stream",
     "text": [
      "Total parameters in the model: 5.29M\n"
     ]
    }
   ],
   "source": [
    "model = torch.load(\"checkpoint.pt\")\n",
    "\n",
    "pytorch_total_params = sum(p.numel() for p in model.parameters())\n",
    "print(f\"Total parameters in the model: {pytorch_total_params / 1e6:.2f}M\")"
   ]
  },
  {
   "cell_type": "markdown",
   "id": "084be761",
   "metadata": {},
   "source": [
    "## Dynamic Quantization with INT4 or INT8"
   ]
  },
  {
   "cell_type": "code",
   "execution_count": 19,
   "id": "0522079a",
   "metadata": {},
   "outputs": [
    {
     "name": "stdout",
     "output_type": "stream",
     "text": [
      "MLP(\n",
      "  (net): Sequential(\n",
      "    (0): DynamicQuantizedLinear(in_features=10000, out_features=512, dtype=torch.qint8, qscheme=torch.per_tensor_affine)\n",
      "    (1): ReLU()\n",
      "    (2): Dropout(p=0.3, inplace=False)\n",
      "    (3): DynamicQuantizedLinear(in_features=512, out_features=256, dtype=torch.qint8, qscheme=torch.per_tensor_affine)\n",
      "    (4): ReLU()\n",
      "    (5): Dropout(p=0.3, inplace=False)\n",
      "    (6): DynamicQuantizedLinear(in_features=256, out_features=128, dtype=torch.qint8, qscheme=torch.per_tensor_affine)\n",
      "    (7): ReLU()\n",
      "    (8): Dropout(p=0.3, inplace=False)\n",
      "    (9): DynamicQuantizedLinear(in_features=128, out_features=64, dtype=torch.qint8, qscheme=torch.per_tensor_affine)\n",
      "    (10): ReLU()\n",
      "    (11): Dropout(p=0.3, inplace=False)\n",
      "    (12): DynamicQuantizedLinear(in_features=64, out_features=2, dtype=torch.qint8, qscheme=torch.per_tensor_affine)\n",
      "  )\n",
      ")\n"
     ]
    }
   ],
   "source": [
    "import torch\n",
    "import torch.quantization as tq\n",
    "\n",
    "model = torch.load(\"checkpoint.pt\", weights_only=False)\n",
    "\n",
    "\n",
    "# Apply dynamic quantization (use INT8)\n",
    "model_dynamic = tq.quantize_dynamic(\n",
    "    model,  # Original model\n",
    "    {nn.Linear},  # Apply quantization to linear layers only\n",
    "    dtype=torch.qint8  # Use INT8 quantization\n",
    ")\n",
    "\n",
    "# Verify the quantized model architecture\n",
    "print(model_dynamic)\n",
    "\n",
    "# Save the quantized model if needed\n",
    "torch.save(model_dynamic, \"quantized_model_int8.pt\")\n"
   ]
  },
  {
   "cell_type": "markdown",
   "id": "3c3b5477",
   "metadata": {},
   "source": [
    "## Half precision "
   ]
  },
  {
   "cell_type": "code",
   "execution_count": 20,
   "id": "1a51aef7",
   "metadata": {},
   "outputs": [
    {
     "name": "stdout",
     "output_type": "stream",
     "text": [
      "MLP(\n",
      "  (net): Sequential(\n",
      "    (0): Linear(in_features=10000, out_features=512, bias=True)\n",
      "    (1): ReLU()\n",
      "    (2): Dropout(p=0.3, inplace=False)\n",
      "    (3): Linear(in_features=512, out_features=256, bias=True)\n",
      "    (4): ReLU()\n",
      "    (5): Dropout(p=0.3, inplace=False)\n",
      "    (6): Linear(in_features=256, out_features=128, bias=True)\n",
      "    (7): ReLU()\n",
      "    (8): Dropout(p=0.3, inplace=False)\n",
      "    (9): Linear(in_features=128, out_features=64, bias=True)\n",
      "    (10): ReLU()\n",
      "    (11): Dropout(p=0.3, inplace=False)\n",
      "    (12): Linear(in_features=64, out_features=2, bias=True)\n",
      "  )\n",
      ")\n"
     ]
    }
   ],
   "source": [
    "# Convert the model to half precision (FP16)\n",
    "model = torch.load(\"checkpoint.pt\", weights_only=False)\n",
    "model_half = model.half()\n",
    "\n",
    "# Verify the model is now in half precision\n",
    "print(model_half)\n",
    "\n",
    "# Save the model in half precision\n",
    "torch.save(model_half, \"half_precision_model.pt\")\n"
   ]
  },
  {
   "cell_type": "code",
   "execution_count": 21,
   "id": "ed87fc2c",
   "metadata": {},
   "outputs": [
    {
     "name": "stderr",
     "output_type": "stream",
     "text": [
      "c:\\Users\\JENIL\\AppData\\Local\\Programs\\Python\\Python39\\lib\\site-packages\\torch\\_utils.py:392: UserWarning: TypedStorage is deprecated. It will be removed in the future and UntypedStorage will be the only storage class. This should only matter to you if you are using storages directly.  To access UntypedStorage directly, use tensor.untyped_storage() instead of tensor.storage()\n",
      "  device=storage.device,\n"
     ]
    },
    {
     "name": "stdout",
     "output_type": "stream",
     "text": [
      "Models loaded\n"
     ]
    },
    {
     "data": {
      "text/html": [
       "<div>\n",
       "<style scoped>\n",
       "    .dataframe tbody tr th:only-of-type {\n",
       "        vertical-align: middle;\n",
       "    }\n",
       "\n",
       "    .dataframe tbody tr th {\n",
       "        vertical-align: top;\n",
       "    }\n",
       "\n",
       "    .dataframe thead th {\n",
       "        text-align: right;\n",
       "    }\n",
       "</style>\n",
       "<table border=\"1\" class=\"dataframe\">\n",
       "  <thead>\n",
       "    <tr style=\"text-align: right;\">\n",
       "      <th></th>\n",
       "      <th>S.I.</th>\n",
       "      <th>Model Name</th>\n",
       "      <th>Accuracy (Out of 100)</th>\n",
       "      <th>Storage (In MB)</th>\n",
       "      <th>Inference time (In ms)</th>\n",
       "    </tr>\n",
       "  </thead>\n",
       "  <tbody>\n",
       "    <tr>\n",
       "      <th>0</th>\n",
       "      <td>1</td>\n",
       "      <td>Original</td>\n",
       "      <td>88.625</td>\n",
       "      <td>20.20</td>\n",
       "      <td>0.090892</td>\n",
       "    </tr>\n",
       "    <tr>\n",
       "      <th>1</th>\n",
       "      <td>2</td>\n",
       "      <td>Dynamic</td>\n",
       "      <td>88.725</td>\n",
       "      <td>5.06</td>\n",
       "      <td>0.068727</td>\n",
       "    </tr>\n",
       "    <tr>\n",
       "      <th>2</th>\n",
       "      <td>3</td>\n",
       "      <td>Half</td>\n",
       "      <td>88.625</td>\n",
       "      <td>10.10</td>\n",
       "      <td>9.677914</td>\n",
       "    </tr>\n",
       "  </tbody>\n",
       "</table>\n",
       "</div>"
      ],
      "text/plain": [
       "   S.I. Model Name  Accuracy (Out of 100)  Storage (In MB)  \\\n",
       "0     1   Original                 88.625            20.20   \n",
       "1     2    Dynamic                 88.725             5.06   \n",
       "2     3       Half                 88.625            10.10   \n",
       "\n",
       "   Inference time (In ms)  \n",
       "0                0.090892  \n",
       "1                0.068727  \n",
       "2                9.677914  "
      ]
     },
     "execution_count": 21,
     "metadata": {},
     "output_type": "execute_result"
    }
   ],
   "source": [
    "import torch\n",
    "import pandas as pd\n",
    "import time\n",
    "import os\n",
    "\n",
    "def get_model_size_mb(path):\n",
    "    size_bytes = os.path.getsize(path)\n",
    "    size_mb = size_bytes / (1024 * 1024)\n",
    "    return round(size_mb, 2)\n",
    "\n",
    "\n",
    "def evaluate_model(model, loader, model_type=\"original\"):\n",
    "    model.eval().cpu()\n",
    "    \n",
    "    # Handle half-precision model\n",
    "    if model_type == \"half\":\n",
    "        model = model.half()\n",
    "\n",
    "    correct, total = 0, 0\n",
    "    total_time = 0\n",
    "\n",
    "    with torch.no_grad():\n",
    "        for xb, yb in loader:\n",
    "            xb = xb.cpu()\n",
    "            yb = yb.cpu()\n",
    "\n",
    "            if model_type == \"half\":\n",
    "                xb = xb.half()\n",
    "            elif model_type == \"quantized\":\n",
    "                # dynamic quantized models usually accept float32 input (quantization happens inside)\n",
    "                xb = xb.float()\n",
    "\n",
    "            start = time.time()\n",
    "            out = model(xb)\n",
    "            end = time.time()\n",
    "\n",
    "            pred = out.argmax(1)\n",
    "            correct += (pred == yb).sum().item()\n",
    "            total += yb.size(0)\n",
    "            total_time += (end - start)\n",
    "\n",
    "    acc = 100 * correct / total\n",
    "    avg_time = (total_time * 1000) / total  # ms/sample\n",
    "    return acc, avg_time\n",
    "\n",
    "\n",
    "# Model architecture params\n",
    "input_dim = 10000\n",
    "hidden_sizes = [512, 256, 128, 64]\n",
    "output_dim = 2\n",
    "\n",
    "# Initialize and load original model\n",
    "model = torch.load(\"checkpoint.pt\", weights_only=False, map_location=\"cpu\")\n",
    "\n",
    "# Initialize and load quantized model (must stay on CPU)\n",
    "model_dynamic = torch.load(\"quantized_model_int8.pt\", weights_only=False, map_location=\"cpu\")\n",
    "\n",
    "# Initialize and load half precision model\n",
    "model_half = MLP(input_dim, hidden_sizes, output_dim).half()  # half precision\n",
    "model_half = torch.load(\"half_precision_model.pt\", weights_only=False, map_location=\"cpu\")\n",
    "\n",
    "print(\"Models loaded\")\n",
    "\n",
    "\n",
    "acc_orig, time_orig = evaluate_model(model, val_loader, model_type=\"original\")\n",
    "acc_quant, time_quant = evaluate_model(model_dynamic, val_loader, model_type=\"quantized\")\n",
    "acc_half, time_half = evaluate_model(model_half, val_loader, model_type=\"half\")\n",
    "\n",
    "# Create a DataFrame structure\n",
    "results_df = pd.DataFrame({\n",
    "    \"S.I.\": [1, 2, 3],\n",
    "    \"Model Name\": [\"Original\", \"Dynamic\", \"Half\"],\n",
    "    \"Accuracy (Out of 100)\": [acc_orig, acc_quant, acc_half],\n",
    "    \"Storage (In MB)\": [get_model_size_mb(\"checkpoint.pt\"), get_model_size_mb(\"quantized_model_int8.pt\"), get_model_size_mb(\"half_precision_model.pt\")],\n",
    "    \"Inference time (In ms)\": [time_orig, time_quant, time_half]\n",
    "})\n",
    "\n",
    "# Display the table\n",
    "results_df\n"
   ]
  },
  {
   "cell_type": "code",
   "execution_count": null,
   "id": "0e83529d",
   "metadata": {},
   "outputs": [],
   "source": []
  },
  {
   "cell_type": "code",
   "execution_count": null,
   "id": "465a7784",
   "metadata": {},
   "outputs": [],
   "source": []
  },
  {
   "cell_type": "code",
   "execution_count": null,
   "id": "6beeb8f5",
   "metadata": {},
   "outputs": [],
   "source": []
  }
 ],
 "metadata": {
  "kernelspec": {
   "display_name": "Python39",
   "language": "python",
   "name": "python3"
  },
  "language_info": {
   "codemirror_mode": {
    "name": "ipython",
    "version": 3
   },
   "file_extension": ".py",
   "mimetype": "text/x-python",
   "name": "python",
   "nbconvert_exporter": "python",
   "pygments_lexer": "ipython3",
   "version": "3.9.6"
  }
 },
 "nbformat": 4,
 "nbformat_minor": 5
}
