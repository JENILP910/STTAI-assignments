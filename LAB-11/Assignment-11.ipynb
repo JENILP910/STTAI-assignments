{
 "cells": [
  {
   "cell_type": "code",
   "execution_count": null,
   "id": "82b3008c",
   "metadata": {},
   "outputs": [],
   "source": []
  },
  {
   "cell_type": "markdown",
   "id": "0555d924",
   "metadata": {},
   "source": [
    "# 1. Dataset Preparation"
   ]
  },
  {
   "cell_type": "code",
   "execution_count": 36,
   "id": "a8795cac",
   "metadata": {},
   "outputs": [],
   "source": [
    "import pandas as pd\n",
    "from sklearn.model_selection import train_test_split\n",
    "from sklearn.feature_extraction.text import TfidfVectorizer\n",
    "import torch\n",
    "from torch.utils.data import TensorDataset\n",
    "\n",
    "# Load data\n",
    "train_df = pd.read_csv(\"https://raw.githubusercontent.com/clairett/pytorch-sentiment-classification/master/data/SST2/train.tsv\", sep=\"\\t\", header=0)\n",
    "train_df.columns = ['sentence', 'label']\n",
    "test_df = pd.read_csv(\"https://raw.githubusercontent.com/clairett/pytorch-sentiment-classification/master/data/SST2/test.tsv\", sep=\"\\t\", header=0)\n",
    "test_df.columns = ['sentence', 'label']\n",
    "\n",
    "\n",
    "# Vectorize using TF-IDF\n",
    "vectorizer = TfidfVectorizer(max_features=10000)\n",
    "X_train_full = vectorizer.fit_transform(train_df['sentence']).toarray()\n",
    "y_train_full = train_df['label'].values\n",
    "\n",
    "X_test = vectorizer.transform(test_df['sentence']).toarray()\n",
    "\n",
    "# Train/Validation Split\n",
    "X_train, X_val, y_train, y_val = train_test_split(X_train_full, y_train_full, test_size=0.2, random_state=42)\n",
    "\n",
    "# Convert to tensors\n",
    "train_dataset = TensorDataset(torch.tensor(X_train, dtype=torch.float32), torch.tensor(y_train))\n",
    "val_dataset   = TensorDataset(torch.tensor(X_val, dtype=torch.float32), torch.tensor(y_val))\n",
    "test_dataset  = TensorDataset(torch.tensor(X_test, dtype=torch.float32), torch.zeros(len(X_test), dtype=torch.long))\n",
    "\n"
   ]
  },
  {
   "cell_type": "code",
   "execution_count": 40,
   "id": "311c9e0e",
   "metadata": {},
   "outputs": [
    {
     "data": {
      "text/plain": [
       "(torch.Size([5535, 10000]),\n",
       " torch.Size([1820, 10000]),\n",
       " torch.Size([1384, 10000]))"
      ]
     },
     "execution_count": 40,
     "metadata": {},
     "output_type": "execute_result"
    }
   ],
   "source": [
    "train_dataset.tensors[0].shape, test_dataset.tensors[0].shape, val_dataset.tensors[0].shape"
   ]
  },
  {
   "cell_type": "code",
   "execution_count": null,
   "id": "04520f6d",
   "metadata": {},
   "outputs": [],
   "source": [
    "vectorizer = CountVectorizer(max_features=10000)\n",
    "vectorizer.fit(train_df['a stirring '])\n",
    "val_dataset = TextDataset(val_df, vectorizer)\n",
    "\n",
    "train_dataset = TextDataset(train_df, vectorizer)\n",
    "\n",
    "train_loader = DataLoader(train_dataset, batch_size=32, shuffle=True)\n",
    "val_loader = DataLoader(val_dataset, batch_size=32, shuffle=False)"
   ]
  },
  {
   "cell_type": "markdown",
   "id": "18932139",
   "metadata": {},
   "source": [
    "# 2. Construct a Multi-Layer Perceptron (MLP) model"
   ]
  },
  {
   "cell_type": "code",
   "execution_count": 6,
   "id": "5d80d7c0",
   "metadata": {},
   "outputs": [],
   "source": [
    "import torch.nn as nn\n",
    "\n",
    "class MLP(nn.Module):\n",
    "    def __init__(self, input_dim, hidden_sizes, output_dim, dropout=0.3):\n",
    "        super().__init__()\n",
    "        layers = []\n",
    "        in_dim = input_dim\n",
    "        for h in hidden_sizes:\n",
    "            layers.append(nn.Linear(in_dim, h))\n",
    "            layers.append(nn.ReLU())\n",
    "            layers.append(nn.Dropout(dropout))\n",
    "            in_dim = h\n",
    "        layers.append(nn.Linear(in_dim, output_dim))\n",
    "        self.net = nn.Sequential(*layers)\n",
    "\n",
    "    def forward(self, x):\n",
    "        return self.net(x)\n"
   ]
  },
  {
   "cell_type": "code",
   "execution_count": null,
   "id": "1e3ffdca",
   "metadata": {},
   "outputs": [
    {
     "name": "stdout",
     "output_type": "stream",
     "text": [
      "MLP(\n",
      "  (net): Sequential(\n",
      "    (0): Linear(in_features=10000, out_features=512, bias=True)\n",
      "    (1): ReLU()\n",
      "    (2): Dropout(p=0.3, inplace=False)\n",
      "    (3): Linear(in_features=512, out_features=256, bias=True)\n",
      "    (4): ReLU()\n",
      "    (5): Dropout(p=0.3, inplace=False)\n",
      "    (6): Linear(in_features=256, out_features=128, bias=True)\n",
      "    (7): ReLU()\n",
      "    (8): Dropout(p=0.3, inplace=False)\n",
      "    (9): Linear(in_features=128, out_features=64, bias=True)\n",
      "    (10): ReLU()\n",
      "    (11): Dropout(p=0.3, inplace=False)\n",
      "    (12): Linear(in_features=64, out_features=2, bias=True)\n",
      "  )\n",
      ")\n"
     ]
    }
   ],
   "source": [
    "# Initialize model\n",
    "model = MLP(input_dim=10000, hidden_sizes=[512, 256, 128, 64], output_dim=2)\n",
    "print(model)"
   ]
  },
  {
   "cell_type": "code",
   "execution_count": 8,
   "id": "e47013c4",
   "metadata": {},
   "outputs": [
    {
     "name": "stdout",
     "output_type": "stream",
     "text": [
      "Trainable Parameters: 5293122\n"
     ]
    }
   ],
   "source": [
    "def count_parameters(model):\n",
    "    return sum(p.numel() for p in model.parameters() if p.requires_grad)\n",
    "\n",
    "print(\"Trainable Parameters:\", count_parameters(model))"
   ]
  },
  {
   "cell_type": "markdown",
   "id": "14de2b68",
   "metadata": {},
   "source": [
    "# 3. Training the model"
   ]
  },
  {
   "cell_type": "code",
   "execution_count": 9,
   "id": "daf4367b",
   "metadata": {},
   "outputs": [
    {
     "name": "stdout",
     "output_type": "stream",
     "text": [
      "Using device: cuda\n",
      "Epoch 1/10 | Train Loss: 0.6288 | Val Loss: 0.4642 | Val Acc: 77.10%\n",
      "Epoch 2/10 | Train Loss: 0.2825 | Val Loss: 0.5231 | Val Acc: 77.75%\n",
      "Epoch 3/10 | Train Loss: 0.0956 | Val Loss: 0.7321 | Val Acc: 78.03%\n",
      "Epoch 4/10 | Train Loss: 0.0246 | Val Loss: 1.0851 | Val Acc: 77.46%\n",
      "Epoch 5/10 | Train Loss: 0.0057 | Val Loss: 1.3985 | Val Acc: 77.89%\n",
      "Epoch 6/10 | Train Loss: 0.0017 | Val Loss: 1.7790 | Val Acc: 78.32%\n",
      "Epoch 7/10 | Train Loss: 0.0013 | Val Loss: 1.7990 | Val Acc: 77.82%\n",
      "Epoch 8/10 | Train Loss: 0.0001 | Val Loss: 2.1245 | Val Acc: 78.25%\n",
      "Epoch 9/10 | Train Loss: 0.0002 | Val Loss: 2.2472 | Val Acc: 77.82%\n",
      "Epoch 10/10 | Train Loss: 0.0003 | Val Loss: 2.3581 | Val Acc: 78.11%\n"
     ]
    }
   ],
   "source": [
    "import torch\n",
    "import torch.nn as nn\n",
    "import torch.optim as optim\n",
    "from sklearn.metrics import accuracy_score\n",
    "import matplotlib.pyplot as plt\n",
    "\n",
    "# Set device\n",
    "device = torch.device(\"cuda\" if torch.cuda.is_available() else \"cpu\")\n",
    "print(\"Using device:\", device)\n",
    "\n",
    "# Move model to device\n",
    "model = model.to(device)\n",
    "\n",
    "# Loss and optimizer\n",
    "criterion = nn.CrossEntropyLoss()\n",
    "optimizer = optim.Adam(model.parameters(), lr=1e-3)\n",
    "\n",
    "# Training config\n",
    "num_epochs = 10\n",
    "best_val_acc = 0.0\n",
    "train_losses, val_losses, val_accuracies = [], [], []\n",
    "\n",
    "for epoch in range(num_epochs):\n",
    "    model.train()\n",
    "    epoch_train_loss = 0.0\n",
    "\n",
    "    for xb, yb in train_loader:\n",
    "        xb, yb = xb.to(device), yb.to(device)\n",
    "        optimizer.zero_grad()\n",
    "        outputs = model(xb)\n",
    "        loss = criterion(outputs, yb)\n",
    "        loss.backward()\n",
    "        optimizer.step()\n",
    "        epoch_train_loss += loss.item()\n",
    "\n",
    "    # Validation\n",
    "    model.eval()\n",
    "    val_loss = 0.0\n",
    "    preds, labels = [], []\n",
    "\n",
    "    with torch.no_grad():\n",
    "        for xb, yb in val_loader:\n",
    "            xb, yb = xb.to(device), yb.to(device)\n",
    "            outputs = model(xb)\n",
    "            loss = criterion(outputs, yb)\n",
    "            val_loss += loss.item()\n",
    "            preds += outputs.argmax(dim=1).cpu().tolist()\n",
    "            labels += yb.cpu().tolist()\n",
    "\n",
    "    acc = accuracy_score(labels, preds)\n",
    "    epoch_train_loss /= len(train_loader)\n",
    "    val_loss /= len(val_loader)\n",
    "\n",
    "    train_losses.append(epoch_train_loss)\n",
    "    val_losses.append(val_loss)\n",
    "    val_accuracies.append(acc)\n",
    "\n",
    "    print(f\"Epoch {epoch+1}/{num_epochs} | Train Loss: {epoch_train_loss:.4f} | Val Loss: {val_loss:.4f} | Val Acc: {acc*100:.2f}%\")\n",
    "\n",
    "    # Save best model\n",
    "    if acc > best_val_acc:\n",
    "        best_val_acc = acc\n",
    "        torch.save(model, \"checkpoint.pt\")\n"
   ]
  },
  {
   "cell_type": "code",
   "execution_count": 10,
   "id": "f7743f18",
   "metadata": {},
   "outputs": [
    {
     "data": {
      "image/png": "[encoded data removed]",
      "text/plain": [
       "<Figure size 1000x500 with 2 Axes>"
      ]
     },
     "metadata": {},
     "output_type": "display_data"
    }
   ],
   "source": [
    "# Plotting\n",
    "plt.figure(figsize=(10, 5))\n",
    "\n",
    "plt.subplot(1, 2, 1)\n",
    "plt.plot(range(1, num_epochs+1), val_accuracies, marker='o', color='b')\n",
    "plt.title(\"Validation Accuracy\")\n",
    "plt.xlabel(\"Epoch\")\n",
    "plt.ylabel(\"Accuracy\")\n",
    "\n",
    "plt.subplot(1, 2, 2)\n",
    "plt.plot(range(1, num_epochs+1), val_losses, marker='o', color='r')\n",
    "plt.title(\"Validation Loss\")\n",
    "plt.xlabel(\"Epoch\")\n",
    "plt.ylabel(\"Loss\")\n",
    "\n",
    "plt.tight_layout()\n",
    "plt.show()\n"
   ]
  },
  {
   "cell_type": "markdown",
   "id": "750a31b5",
   "metadata": {},
   "source": [
    "# 4. Quantization"
   ]
  },
  {
   "cell_type": "markdown",
   "id": "4a01968e",
   "metadata": {},
   "source": [
    "## Dynamic Quantization with INT4 or INT8"
   ]
  },
  {
   "cell_type": "code",
   "execution_count": 27,
   "id": "1e866be6",
   "metadata": {},
   "outputs": [
    {
     "name": "stdout",
     "output_type": "stream",
     "text": [
      "MLP(\n",
      "  (net): Sequential(\n",
      "    (0): DynamicQuantizedLinear(in_features=10000, out_features=512, dtype=torch.qint8, qscheme=torch.per_tensor_affine)\n",
      "    (1): ReLU()\n",
      "    (2): Dropout(p=0.3, inplace=False)\n",
      "    (3): DynamicQuantizedLinear(in_features=512, out_features=256, dtype=torch.qint8, qscheme=torch.per_tensor_affine)\n",
      "    (4): ReLU()\n",
      "    (5): Dropout(p=0.3, inplace=False)\n",
      "    (6): DynamicQuantizedLinear(in_features=256, out_features=128, dtype=torch.qint8, qscheme=torch.per_tensor_affine)\n",
      "    (7): ReLU()\n",
      "    (8): Dropout(p=0.3, inplace=False)\n",
      "    (9): DynamicQuantizedLinear(in_features=128, out_features=64, dtype=torch.qint8, qscheme=torch.per_tensor_affine)\n",
      "    (10): ReLU()\n",
      "    (11): Dropout(p=0.3, inplace=False)\n",
      "    (12): DynamicQuantizedLinear(in_features=64, out_features=2, dtype=torch.qint8, qscheme=torch.per_tensor_affine)\n",
      "  )\n",
      ")\n"
     ]
    }
   ],
   "source": [
    "import torch\n",
    "import torch.quantization as tq\n",
    "\n",
    "model = torch.load(\"checkpoint.pt\", weights_only=False)\n",
    "\n",
    "\n",
    "# Apply dynamic quantization (use INT8)\n",
    "model_dynamic = tq.quantize_dynamic(\n",
    "    model,  # Original model\n",
    "    {nn.Linear},  # Apply quantization to linear layers only\n",
    "    dtype=torch.qint8  # Use INT8 quantization\n",
    ")\n",
    "\n",
    "# Optionally,  apply INT4 \n",
    "# model_dynamic = tq.quantize_dynamic(\n",
    "#     model, \n",
    "#     {nn.Linear},\n",
    "#     dtype=torch.qint4  # Use INT4 quantization\n",
    "# )\n",
    "\n",
    "# Verify the quantized model architecture\n",
    "print(model_dynamic)\n",
    "\n",
    "# Save the quantized model if needed\n",
    "torch.save(model_dynamic, \"quantized_model_int8.pt\")\n"
   ]
  },
  {
   "cell_type": "markdown",
   "id": "c618e9b8",
   "metadata": {},
   "source": [
    "## Half precision "
   ]
  },
  {
   "cell_type": "code",
   "execution_count": 12,
   "id": "de1c9a40",
   "metadata": {},
   "outputs": [
    {
     "name": "stdout",
     "output_type": "stream",
     "text": [
      "MLP(\n",
      "  (net): Sequential(\n",
      "    (0): Linear(in_features=10000, out_features=512, bias=True)\n",
      "    (1): ReLU()\n",
      "    (2): Dropout(p=0.3, inplace=False)\n",
      "    (3): Linear(in_features=512, out_features=256, bias=True)\n",
      "    (4): ReLU()\n",
      "    (5): Dropout(p=0.3, inplace=False)\n",
      "    (6): Linear(in_features=256, out_features=128, bias=True)\n",
      "    (7): ReLU()\n",
      "    (8): Dropout(p=0.3, inplace=False)\n",
      "    (9): Linear(in_features=128, out_features=64, bias=True)\n",
      "    (10): ReLU()\n",
      "    (11): Dropout(p=0.3, inplace=False)\n",
      "    (12): Linear(in_features=64, out_features=2, bias=True)\n",
      "  )\n",
      ")\n"
     ]
    }
   ],
   "source": [
    "# Convert the model to half precision (FP16)\n",
    "model = torch.load(\"checkpoint.pt\", weights_only=False)\n",
    "model_half = model.half()\n",
    "\n",
    "# Verify the model is now in half precision\n",
    "print(model_half)\n",
    "\n",
    "# Save the model in half precision\n",
    "torch.save(model_half, \"half_precision_model.pt\")\n"
   ]
  },
  {
   "cell_type": "markdown",
   "id": "36d7c0b9",
   "metadata": {},
   "source": [
    "# 5. Results"
   ]
  },
  {
   "cell_type": "code",
   "execution_count": 13,
   "id": "6a309298",
   "metadata": {},
   "outputs": [
    {
     "name": "stdout",
     "output_type": "stream",
     "text": [
      "Done loading data\n"
     ]
    }
   ],
   "source": [
    "from torch.utils.data import TensorDataset\n",
    "from sklearn.feature_extraction.text import TfidfVectorizer\n",
    "from sklearn.model_selection import train_test_split\n",
    "from torch.utils.data import DataLoader\n",
    "import torch.nn as nn\n",
    "import pandas as pd\n",
    "import torch\n",
    "\n",
    "class MLP(nn.Module):\n",
    "    def __init__(self, input_dim, hidden_sizes, output_dim, dropout=0.3):\n",
    "        super().__init__()\n",
    "        layers = []\n",
    "        in_dim = input_dim\n",
    "        for h in hidden_sizes:\n",
    "            layers.append(nn.Linear(in_dim, h))\n",
    "            layers.append(nn.ReLU())\n",
    "            layers.append(nn.Dropout(dropout))\n",
    "            in_dim = h\n",
    "        layers.append(nn.Linear(in_dim, output_dim))\n",
    "        self.net = nn.Sequential(*layers)\n",
    "\n",
    "    def forward(self, x):\n",
    "        return self.net(x)\n",
    "\n",
    "BATCH_SIZE=64\n",
    "# def quick_get_val_loader(BATCH_SIZE=64):\n",
    "# Load data\n",
    "train_df = pd.read_csv(\"https://raw.githubusercontent.com/clairett/pytorch-sentiment-classification/master/data/SST2/train.tsv\", sep=\"\\t\", header=0)\n",
    "train_df.columns = ['sentence', 'label']\n",
    "\n",
    "# Vectorize using TF-IDF\n",
    "vectorizer = TfidfVectorizer(max_features=10000)\n",
    "X_train_full = vectorizer.fit_transform(train_df['sentence']).toarray()\n",
    "y_train_full = train_df['label'].values\n",
    "\n",
    "# Train/Validation Split\n",
    "X_train, X_val, y_train, y_val = train_test_split(X_train_full, y_train_full, test_size=0.2, random_state=42)\n",
    "\n",
    "# Convert to tensors\n",
    "val_dataset   = TensorDataset(torch.tensor(X_val, dtype=torch.float32), torch.tensor(y_val))\n",
    "val_loader   = DataLoader(val_dataset, batch_size=BATCH_SIZE)\n",
    "\n",
    "print(\"Done loading data\")\n",
    "# return val_loader\n",
    "\n",
    "# val_loader = quick_get_val_loader(BATCH_SIZE=64)"
   ]
  },
  {
   "cell_type": "code",
   "execution_count": null,
   "id": "0a1dfb78",
   "metadata": {},
   "outputs": [
    {
     "name": "stdout",
     "output_type": "stream",
     "text": [
      "Models loaded\n"
     ]
    },
    {
     "data": {
      "text/html": [
       "<div>\n",
       "<style scoped>\n",
       "    .dataframe tbody tr th:only-of-type {\n",
       "        vertical-align: middle;\n",
       "    }\n",
       "\n",
       "    .dataframe tbody tr th {\n",
       "        vertical-align: top;\n",
       "    }\n",
       "\n",
       "    .dataframe thead th {\n",
       "        text-align: right;\n",
       "    }\n",
       "</style>\n",
       "<table border=\"1\" class=\"dataframe\">\n",
       "  <thead>\n",
       "    <tr style=\"text-align: right;\">\n",
       "      <th></th>\n",
       "      <th>S.I.</th>\n",
       "      <th>Model Name</th>\n",
       "      <th>Accuracy (Out of 100)</th>\n",
       "      <th>Storage (In MB)</th>\n",
       "      <th>Inference time (In ms)</th>\n",
       "    </tr>\n",
       "  </thead>\n",
       "  <tbody>\n",
       "    <tr>\n",
       "      <th>0</th>\n",
       "      <td>1</td>\n",
       "      <td>Original</td>\n",
       "      <td>78.323699</td>\n",
       "      <td>20.20</td>\n",
       "      <td>0.091773</td>\n",
       "    </tr>\n",
       "    <tr>\n",
       "      <th>1</th>\n",
       "      <td>2</td>\n",
       "      <td>Dynamic</td>\n",
       "      <td>78.106936</td>\n",
       "      <td>5.06</td>\n",
       "      <td>0.038578</td>\n",
       "    </tr>\n",
       "    <tr>\n",
       "      <th>2</th>\n",
       "      <td>3</td>\n",
       "      <td>Half</td>\n",
       "      <td>78.323699</td>\n",
       "      <td>10.10</td>\n",
       "      <td>4.528409</td>\n",
       "    </tr>\n",
       "  </tbody>\n",
       "</table>\n",
       "</div>"
      ],
      "text/plain": [
       "   S.I. Model Name  Accuracy (Out of 100)  Storage (In MB)  \\\n",
       "0     1   Original              78.323699            20.20   \n",
       "1     2    Dynamic              78.106936             5.06   \n",
       "2     3       Half              78.323699            10.10   \n",
       "\n",
       "   Inference time (In ms)  \n",
       "0                0.091773  \n",
       "1                0.038578  \n",
       "2                4.528409  "
      ]
     },
     "execution_count": 35,
     "metadata": {},
     "output_type": "execute_result"
    }
   ],
   "source": [
    "import torch\n",
    "import pandas as pd\n",
    "import time\n",
    "import os\n",
    "\n",
    "def get_model_size_mb(path):\n",
    "    size_bytes = os.path.getsize(path)\n",
    "    size_mb = size_bytes / (1024 * 1024)\n",
    "    return round(size_mb, 2)\n",
    "\n",
    "\n",
    "def evaluate_model(model, loader, model_type=\"original\"):\n",
    "    model.eval().cpu()\n",
    "    \n",
    "    # Handle half-precision model\n",
    "    if model_type == \"half\":\n",
    "        model = model.half()\n",
    "\n",
    "    correct, total = 0, 0\n",
    "    total_time = 0\n",
    "\n",
    "    with torch.no_grad():\n",
    "        for xb, yb in loader:\n",
    "            xb = xb.cpu()\n",
    "            yb = yb.cpu()\n",
    "\n",
    "            if model_type == \"half\":\n",
    "                xb = xb.half()\n",
    "            elif model_type == \"quantized\":\n",
    "                # dynamic quantized models usually accept float32 input (quantization happens inside)\n",
    "                xb = xb.float()\n",
    "\n",
    "            start = time.time()\n",
    "            out = model(xb)\n",
    "            end = time.time()\n",
    "\n",
    "            pred = out.argmax(1)\n",
    "            correct += (pred == yb).sum().item()\n",
    "            total += yb.size(0)\n",
    "            total_time += (end - start)\n",
    "\n",
    "    acc = 100 * correct / total\n",
    "    avg_time = (total_time * 1000) / total  # ms/sample\n",
    "    return acc, avg_time\n",
    "\n",
    "\n",
    "# Model architecture params\n",
    "input_dim = 10000\n",
    "hidden_sizes = [512, 256, 128, 64]\n",
    "output_dim = 2\n",
    "\n",
    "# Initialize and load original model\n",
    "model = torch.load(\"checkpoint.pt\", weights_only=False, map_location=\"cpu\")\n",
    "\n",
    "# Initialize and load quantized model (must stay on CPU)\n",
    "model_dynamic = torch.load(\"quantized_model_int8.pt\", weights_only=False, map_location=\"cpu\")\n",
    "\n",
    "# Initialize and load half precision model\n",
    "model_half = MLP(input_dim, hidden_sizes, output_dim).half()  # half precision\n",
    "model_half = torch.load(\"half_precision_model.pt\", weights_only=False, map_location=\"cpu\")\n",
    "\n",
    "print(\"Models loaded\")\n",
    "\n",
    "\n",
    "acc_orig, time_orig = evaluate_model(model, val_loader, model_type=\"original\")\n",
    "acc_quant, time_quant = evaluate_model(model_dynamic, val_loader, model_type=\"quantized\")\n",
    "acc_half, time_half = evaluate_model(model_half, val_loader, model_type=\"half\")\n",
    "\n",
    "# Create a DataFrame structure\n",
    "results_df = pd.DataFrame({\n",
    "    \"S.I.\": [1, 2, 3],\n",
    "    \"Model Name\": [\"Original\", \"Dynamic\", \"Half\"],\n",
    "    \"Accuracy (Out of 100)\": [acc_orig, acc_quant, acc_half],\n",
    "    \"Storage (In MB)\": [get_model_size_mb(\"checkpoint.pt\"), get_model_size_mb(\"quantized_model_int8.pt\"), get_model_size_mb(\"half_precision_model.pt\")],\n",
    "    \"Inference time (In ms)\": [time_orig, time_quant, time_half]\n",
    "})\n",
    "\n",
    "# Display the table\n",
    "results_df\n"
   ]
  }
 ],
 "metadata": {
  "kernelspec": {
   "display_name": "Python39",
   "language": "python",
   "name": "python3"
  },
  "language_info": {
   "codemirror_mode": {
    "name": "ipython",
    "version": 3
   },
   "file_extension": ".py",
   "mimetype": "text/x-python",
   "name": "python",
   "nbconvert_exporter": "python",
   "pygments_lexer": "ipython3",
   "version": "3.9.6"
  }
 },
 "nbformat": 4,
 "nbformat_minor": 5
}
